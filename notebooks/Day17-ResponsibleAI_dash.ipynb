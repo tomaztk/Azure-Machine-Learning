{
  "cells": [
    {
      "cell_type": "markdown",
      "source": [
        "# Dashboard for responsible AI\n",
        "\n",
        "With normal compute, make sure to select a Python 3.8 - AzureML kernel."
      ],
      "metadata": {
        "nteract": {
          "transient": {
            "deleting": false
          }
        }
      }
    },
    {
      "cell_type": "code",
      "source": [
        "!pip install raiwidgets\n",
        "!pip install --upgrade raiwidgets\n",
        "!pip install --upgrade pandas"
      ],
      "outputs": [
        {
          "output_type": "stream",
          "name": "stdout",
          "text": "Requirement already satisfied: raiwidgets in /anaconda/envs/azureml_py38/lib/python3.8/site-packages (0.9.2)\nRequirement already satisfied: jinja2==2.11.3 in /anaconda/envs/azureml_py38/lib/python3.8/site-packages (from raiwidgets) (2.11.3)\nRequirement already satisfied: lightgbm>=2.0.11 in /anaconda/envs/azureml_py38/lib/python3.8/site-packages (from raiwidgets) (3.2.1)\nRequirement already satisfied: ipykernel<6.0 in /anaconda/envs/azureml_py38/lib/python3.8/site-packages (from raiwidgets) (5.5.6)\nRequirement already satisfied: responsibleai==0.9.2 in /anaconda/envs/azureml_py38/lib/python3.8/site-packages (from raiwidgets) (0.9.2)\nRequirement already satisfied: scikit-learn>=0.22.1 in /anaconda/envs/azureml_py38/lib/python3.8/site-packages (from raiwidgets) (0.22.1)\nRequirement already satisfied: pandas>=0.25.1 in /anaconda/envs/azureml_py38/lib/python3.8/site-packages (from raiwidgets) (1.5.2)\nRequirement already satisfied: ipython==7.16.1 in /anaconda/envs/azureml_py38/lib/python3.8/site-packages (from raiwidgets) (7.16.1)\nRequirement already satisfied: rai-core-flask==0.2.3 in /anaconda/envs/azureml_py38/lib/python3.8/site-packages (from raiwidgets) (0.2.3)\nRequirement already satisfied: erroranalysis>=0.1.14 in /anaconda/envs/azureml_py38/lib/python3.8/site-packages (from raiwidgets) (0.3.12)\nRequirement already satisfied: scipy>=1.4.1 in /anaconda/envs/azureml_py38/lib/python3.8/site-packages (from raiwidgets) (1.5.3)\nRequirement already satisfied: numpy>=1.17.2 in /anaconda/envs/azureml_py38/lib/python3.8/site-packages (from raiwidgets) (1.21.6)\nRequirement already satisfied: MarkupSafe>=0.23 in /anaconda/envs/azureml_py38/lib/python3.8/site-packages (from jinja2==2.11.3->raiwidgets) (2.0.1)\nRequirement already satisfied: wheel in /anaconda/envs/azureml_py38/lib/python3.8/site-packages (from lightgbm>=2.0.11->raiwidgets) (0.37.1)\nRequirement already satisfied: ipython-genutils in /anaconda/envs/azureml_py38/lib/python3.8/site-packages (from ipykernel<6.0->raiwidgets) (0.2.0)\nRequirement already satisfied: tornado>=4.2 in /anaconda/envs/azureml_py38/lib/python3.8/site-packages (from ipykernel<6.0->raiwidgets) (6.2)\nRequirement already satisfied: traitlets>=4.1.0 in /anaconda/envs/azureml_py38/lib/python3.8/site-packages (from ipykernel<6.0->raiwidgets) (5.5.0)\nRequirement already satisfied: jupyter-client in /anaconda/envs/azureml_py38/lib/python3.8/site-packages (from ipykernel<6.0->raiwidgets) (6.1.12)\nRequirement already satisfied: networkx<=2.5 in /anaconda/envs/azureml_py38/lib/python3.8/site-packages (from responsibleai==0.9.2->raiwidgets) (2.5)\nRequirement already satisfied: econml==0.12.0b4 in /anaconda/envs/azureml_py38/lib/python3.8/site-packages (from responsibleai==0.9.2->raiwidgets) (0.12.0b4)\nRequirement already satisfied: dice-ml<0.7,>=0.6.1 in /anaconda/envs/azureml_py38/lib/python3.8/site-packages (from responsibleai==0.9.2->raiwidgets) (0.6.1)\nRequirement already satisfied: interpret-community>=0.18.1 in /anaconda/envs/azureml_py38/lib/python3.8/site-packages (from responsibleai==0.9.2->raiwidgets) (0.27.0)\nRequirement already satisfied: joblib>=0.11 in /anaconda/envs/azureml_py38/lib/python3.8/site-packages (from scikit-learn>=0.22.1->raiwidgets) (0.14.1)\nRequirement already satisfied: pytz>=2020.1 in /anaconda/envs/azureml_py38/lib/python3.8/site-packages (from pandas>=0.25.1->raiwidgets) (2022.5)\nRequirement already satisfied: python-dateutil>=2.8.1 in /anaconda/envs/azureml_py38/lib/python3.8/site-packages (from pandas>=0.25.1->raiwidgets) (2.8.2)\nRequirement already satisfied: prompt-toolkit!=3.0.0,!=3.0.1,<3.1.0,>=2.0.0 in /anaconda/envs/azureml_py38/lib/python3.8/site-packages (from ipython==7.16.1->raiwidgets) (3.0.28)\nRequirement already satisfied: pickleshare in /anaconda/envs/azureml_py38/lib/python3.8/site-packages (from ipython==7.16.1->raiwidgets) (0.7.5)\nRequirement already satisfied: decorator in /anaconda/envs/azureml_py38/lib/python3.8/site-packages (from ipython==7.16.1->raiwidgets) (5.1.1)\nRequirement already satisfied: pygments in /anaconda/envs/azureml_py38/lib/python3.8/site-packages (from ipython==7.16.1->raiwidgets) (2.13.0)\nRequirement already satisfied: setuptools>=18.5 in /anaconda/envs/azureml_py38/lib/python3.8/site-packages (from ipython==7.16.1->raiwidgets) (49.6.0)\nRequirement already satisfied: jedi>=0.10 in /anaconda/envs/azureml_py38/lib/python3.8/site-packages (from ipython==7.16.1->raiwidgets) (0.18.0)\nRequirement already satisfied: backcall in /anaconda/envs/azureml_py38/lib/python3.8/site-packages (from ipython==7.16.1->raiwidgets) (0.2.0)\nRequirement already satisfied: pexpect; sys_platform != \"win32\" in /anaconda/envs/azureml_py38/lib/python3.8/site-packages (from ipython==7.16.1->raiwidgets) (4.8.0)\nRequirement already satisfied: Flask-Cors==3.0.9 in /anaconda/envs/azureml_py38/lib/python3.8/site-packages (from rai-core-flask==0.2.3->raiwidgets) (3.0.9)\nRequirement already satisfied: greenlet==0.4.17 in /anaconda/envs/azureml_py38/lib/python3.8/site-packages (from rai-core-flask==0.2.3->raiwidgets) (0.4.17)\nRequirement already satisfied: Flask~=1.0.0 in /anaconda/envs/azureml_py38/lib/python3.8/site-packages (from rai-core-flask==0.2.3->raiwidgets) (1.0.4)\nRequirement already satisfied: gevent==20.9.0 in /anaconda/envs/azureml_py38/lib/python3.8/site-packages (from rai-core-flask==0.2.3->raiwidgets) (20.9.0)\nRequirement already satisfied: raiutils>=0.2.0 in /anaconda/envs/azureml_py38/lib/python3.8/site-packages (from erroranalysis>=0.1.14->raiwidgets) (0.2.0)\nRequirement already satisfied: jupyter-core>=4.6.0 in /anaconda/envs/azureml_py38/lib/python3.8/site-packages (from jupyter-client->ipykernel<6.0->raiwidgets) (4.11.2)\nRequirement already satisfied: pyzmq>=13 in /anaconda/envs/azureml_py38/lib/python3.8/site-packages (from jupyter-client->ipykernel<6.0->raiwidgets) (24.0.1)\nRequirement already satisfied: sparse in /anaconda/envs/azureml_py38/lib/python3.8/site-packages (from econml==0.12.0b4->responsibleai==0.9.2->raiwidgets) (0.13.0)\nRequirement already satisfied: numba!=0.42.1 in /anaconda/envs/azureml_py38/lib/python3.8/site-packages (from econml==0.12.0b4->responsibleai==0.9.2->raiwidgets) (0.53.1)\nRequirement already satisfied: dowhy in /anaconda/envs/azureml_py38/lib/python3.8/site-packages (from econml==0.12.0b4->responsibleai==0.9.2->raiwidgets) (0.7.1)\nRequirement already satisfied: shap<0.40.0,>=0.38.1 in /anaconda/envs/azureml_py38/lib/python3.8/site-packages (from econml==0.12.0b4->responsibleai==0.9.2->raiwidgets) (0.39.0)\nRequirement already satisfied: statsmodels>=0.10 in /anaconda/envs/azureml_py38/lib/python3.8/site-packages (from econml==0.12.0b4->responsibleai==0.9.2->raiwidgets) (0.11.0)\nRequirement already satisfied: tqdm in /anaconda/envs/azureml_py38/lib/python3.8/site-packages (from dice-ml<0.7,>=0.6.1->responsibleai==0.9.2->raiwidgets) (4.64.1)\nRequirement already satisfied: h5py in /anaconda/envs/azureml_py38/lib/python3.8/site-packages (from dice-ml<0.7,>=0.6.1->responsibleai==0.9.2->raiwidgets) (3.7.0)\nRequirement already satisfied: packaging in /anaconda/envs/azureml_py38/lib/python3.8/site-packages (from interpret-community>=0.18.1->responsibleai==0.9.2->raiwidgets) (21.3)\nRequirement already satisfied: interpret-core[required]<=0.2.7,>=0.1.20 in /anaconda/envs/azureml_py38/lib/python3.8/site-packages (from interpret-community>=0.18.1->responsibleai==0.9.2->raiwidgets) (0.2.7)\nRequirement already satisfied: ml-wrappers==0.2.2 in /anaconda/envs/azureml_py38/lib/python3.8/site-packages (from interpret-community>=0.18.1->responsibleai==0.9.2->raiwidgets) (0.2.2)\nRequirement already satisfied: six>=1.5 in /anaconda/envs/azureml_py38/lib/python3.8/site-packages (from python-dateutil>=2.8.1->pandas>=0.25.1->raiwidgets) (1.16.0)\nRequirement already satisfied: wcwidth in /anaconda/envs/azureml_py38/lib/python3.8/site-packages (from prompt-toolkit!=3.0.0,!=3.0.1,<3.1.0,>=2.0.0->ipython==7.16.1->raiwidgets) (0.2.5)\nRequirement already satisfied: parso<0.9.0,>=0.8.0 in /anaconda/envs/azureml_py38/lib/python3.8/site-packages (from jedi>=0.10->ipython==7.16.1->raiwidgets) (0.8.3)\nRequirement already satisfied: ptyprocess>=0.5 in /anaconda/envs/azureml_py38/lib/python3.8/site-packages (from pexpect; sys_platform != \"win32\"->ipython==7.16.1->raiwidgets) (0.7.0)\nRequirement already satisfied: Werkzeug>=0.14 in /anaconda/envs/azureml_py38/lib/python3.8/site-packages (from Flask~=1.0.0->rai-core-flask==0.2.3->raiwidgets) (2.0.3)\nRequirement already satisfied: itsdangerous>=0.24 in /anaconda/envs/azureml_py38/lib/python3.8/site-packages (from Flask~=1.0.0->rai-core-flask==0.2.3->raiwidgets) (2.0.1)\nRequirement already satisfied: click>=5.1 in /anaconda/envs/azureml_py38/lib/python3.8/site-packages (from Flask~=1.0.0->rai-core-flask==0.2.3->raiwidgets) (8.1.3)\nRequirement already satisfied: zope.interface in /anaconda/envs/azureml_py38/lib/python3.8/site-packages (from gevent==20.9.0->rai-core-flask==0.2.3->raiwidgets) (5.5.1)\nRequirement already satisfied: zope.event in /anaconda/envs/azureml_py38/lib/python3.8/site-packages (from gevent==20.9.0->rai-core-flask==0.2.3->raiwidgets) (4.5.0)\nRequirement already satisfied: requests in /anaconda/envs/azureml_py38/lib/python3.8/site-packages (from raiutils>=0.2.0->erroranalysis>=0.1.14->raiwidgets) (2.28.1)\nRequirement already satisfied: llvmlite<0.37,>=0.36.0rc1 in /anaconda/envs/azureml_py38/lib/python3.8/site-packages (from numba!=0.42.1->econml==0.12.0b4->responsibleai==0.9.2->raiwidgets) (0.36.0)\nRequirement already satisfied: pydot>=1.4 in /anaconda/envs/azureml_py38/lib/python3.8/site-packages (from dowhy->econml==0.12.0b4->responsibleai==0.9.2->raiwidgets) (1.4.2)\nRequirement already satisfied: sympy>=1.4 in /anaconda/envs/azureml_py38/lib/python3.8/site-packages (from dowhy->econml==0.12.0b4->responsibleai==0.9.2->raiwidgets) (1.11.1)\nRequirement already satisfied: cloudpickle in /anaconda/envs/azureml_py38/lib/python3.8/site-packages (from shap<0.40.0,>=0.38.1->econml==0.12.0b4->responsibleai==0.9.2->raiwidgets) (1.6.0)\nRequirement already satisfied: slicer==0.0.7 in /anaconda/envs/azureml_py38/lib/python3.8/site-packages (from shap<0.40.0,>=0.38.1->econml==0.12.0b4->responsibleai==0.9.2->raiwidgets) (0.0.7)\nRequirement already satisfied: patsy>=0.5 in /anaconda/envs/azureml_py38/lib/python3.8/site-packages (from statsmodels>=0.10->econml==0.12.0b4->responsibleai==0.9.2->raiwidgets) (0.5.3)\nRequirement already satisfied: pyparsing!=3.0.5,>=2.0.2 in /anaconda/envs/azureml_py38/lib/python3.8/site-packages (from packaging->interpret-community>=0.18.1->responsibleai==0.9.2->raiwidgets) (3.0.9)\nRequirement already satisfied: charset-normalizer<3,>=2 in /anaconda/envs/azureml_py38/lib/python3.8/site-packages (from requests->raiutils>=0.2.0->erroranalysis>=0.1.14->raiwidgets) (2.1.1)\nRequirement already satisfied: idna<4,>=2.5 in /anaconda/envs/azureml_py38/lib/python3.8/site-packages (from requests->raiutils>=0.2.0->erroranalysis>=0.1.14->raiwidgets) (3.4)\nRequirement already satisfied: certifi>=2017.4.17 in /anaconda/envs/azureml_py38/lib/python3.8/site-packages (from requests->raiutils>=0.2.0->erroranalysis>=0.1.14->raiwidgets) (2022.9.24)\nRequirement already satisfied: urllib3<1.27,>=1.21.1 in /anaconda/envs/azureml_py38/lib/python3.8/site-packages (from requests->raiutils>=0.2.0->erroranalysis>=0.1.14->raiwidgets) (1.26.12)\nRequirement already satisfied: mpmath>=0.19 in /anaconda/envs/azureml_py38/lib/python3.8/site-packages (from sympy>=1.4->dowhy->econml==0.12.0b4->responsibleai==0.9.2->raiwidgets) (1.2.1)\nCollecting raiwidgets\n  Downloading raiwidgets-0.23.0-py3-none-any.whl (2.3 MB)\n\u001b[K     |████████████████████████████████| 2.3 MB 6.7 MB/s eta 0:00:01\n\u001b[?25hRequirement already satisfied, skipping upgrade: itsdangerous==2.0.1 in /anaconda/envs/azureml_py38/lib/python3.8/site-packages (from raiwidgets) (2.0.1)\nRequirement already satisfied, skipping upgrade: scikit-learn>=0.22.1 in /anaconda/envs/azureml_py38/lib/python3.8/site-packages (from raiwidgets) (0.22.1)\nRequirement already satisfied, skipping upgrade: fairlearn>=0.7.0 in /anaconda/envs/azureml_py38/lib/python3.8/site-packages (from raiwidgets) (0.7.0)\nRequirement already satisfied, skipping upgrade: lightgbm>=2.0.11 in /anaconda/envs/azureml_py38/lib/python3.8/site-packages (from raiwidgets) (3.2.1)\nRequirement already satisfied, skipping upgrade: pandas>=0.25.1 in /anaconda/envs/azureml_py38/lib/python3.8/site-packages (from raiwidgets) (1.5.2)\nCollecting rai-core-flask==0.4.0\n  Downloading rai_core_flask-0.4.0-py3-none-any.whl (11 kB)\nRequirement already satisfied, skipping upgrade: erroranalysis>=0.3.12 in /anaconda/envs/azureml_py38/lib/python3.8/site-packages (from raiwidgets) (0.3.12)\nRequirement already satisfied, skipping upgrade: raiutils>=0.2.0 in /anaconda/envs/azureml_py38/lib/python3.8/site-packages (from raiwidgets) (0.2.0)\nCollecting responsibleai==0.23.0\n  Downloading responsibleai-0.23.0-py3-none-any.whl (132 kB)\n\u001b[K     |████████████████████████████████| 132 kB 83.0 MB/s eta 0:00:01\n\u001b[?25hRequirement already satisfied, skipping upgrade: numpy>=1.17.2 in /anaconda/envs/azureml_py38/lib/python3.8/site-packages (from raiwidgets) (1.21.6)\nRequirement already satisfied, skipping upgrade: scipy>=1.4.1 in /anaconda/envs/azureml_py38/lib/python3.8/site-packages (from raiwidgets) (1.5.3)\nRequirement already satisfied, skipping upgrade: joblib>=0.11 in /anaconda/envs/azureml_py38/lib/python3.8/site-packages (from scikit-learn>=0.22.1->raiwidgets) (0.14.1)\nRequirement already satisfied, skipping upgrade: wheel in /anaconda/envs/azureml_py38/lib/python3.8/site-packages (from lightgbm>=2.0.11->raiwidgets) (0.37.1)\nRequirement already satisfied, skipping upgrade: python-dateutil>=2.8.1 in /anaconda/envs/azureml_py38/lib/python3.8/site-packages (from pandas>=0.25.1->raiwidgets) (2.8.2)\nRequirement already satisfied, skipping upgrade: pytz>=2020.1 in /anaconda/envs/azureml_py38/lib/python3.8/site-packages (from pandas>=0.25.1->raiwidgets) (2022.5)\nCollecting ipython==7.31.1; python_version > \"3.6\"\n  Using cached ipython-7.31.1-py3-none-any.whl (792 kB)\nRequirement already satisfied, skipping upgrade: markupsafe<2.1.0 in /anaconda/envs/azureml_py38/lib/python3.8/site-packages (from rai-core-flask==0.4.0->raiwidgets) (2.0.1)\nCollecting greenlet==1.1.2\n  Using cached greenlet-1.1.2-cp38-cp38-manylinux_2_17_x86_64.manylinux2014_x86_64.whl (156 kB)\nRequirement already satisfied, skipping upgrade: Flask-Cors in /anaconda/envs/azureml_py38/lib/python3.8/site-packages (from rai-core-flask==0.4.0->raiwidgets) (3.0.9)\nCollecting gevent==21.12.0\n  Using cached gevent-21.12.0-cp38-cp38-manylinux_2_12_x86_64.manylinux2010_x86_64.whl (6.5 MB)\nRequirement already satisfied, skipping upgrade: Werkzeug<2.1.0 in /anaconda/envs/azureml_py38/lib/python3.8/site-packages (from rai-core-flask==0.4.0->raiwidgets) (2.0.3)\nRequirement already satisfied, skipping upgrade: Flask in /anaconda/envs/azureml_py38/lib/python3.8/site-packages (from rai-core-flask==0.4.0->raiwidgets) (1.0.4)\nRequirement already satisfied, skipping upgrade: requests in /anaconda/envs/azureml_py38/lib/python3.8/site-packages (from raiutils>=0.2.0->raiwidgets) (2.28.1)\nRequirement already satisfied, skipping upgrade: jsonschema in /anaconda/envs/azureml_py38/lib/python3.8/site-packages (from responsibleai==0.23.0->raiwidgets) (4.16.0)\nRequirement already satisfied, skipping upgrade: numba<0.54.0 in /anaconda/envs/azureml_py38/lib/python3.8/site-packages (from responsibleai==0.23.0->raiwidgets) (0.53.1)\nRequirement already satisfied, skipping upgrade: networkx<=2.5 in /anaconda/envs/azureml_py38/lib/python3.8/site-packages (from responsibleai==0.23.0->raiwidgets) (2.5)\nRequirement already satisfied, skipping upgrade: interpret-community>=0.27.0 in /anaconda/envs/azureml_py38/lib/python3.8/site-packages (from responsibleai==0.23.0->raiwidgets) (0.27.0)\nRequirement already satisfied, skipping upgrade: ipykernel<=6.6.0 in /anaconda/envs/azureml_py38/lib/python3.8/site-packages (from responsibleai==0.23.0->raiwidgets) (5.5.6)\nCollecting dice-ml<0.10,>=0.9\n  Downloading dice_ml-0.9-py3-none-any.whl (2.6 MB)\n\u001b[K     |████████████████████████████████| 2.6 MB 84.1 MB/s eta 0:00:01\n\u001b[?25hCollecting econml>=0.13.1\n  Downloading econml-0.14.0-cp38-cp38-manylinux_2_17_x86_64.manylinux2014_x86_64.whl (3.6 MB)\n\u001b[K     |████████████████████████████████| 3.6 MB 70.1 MB/s eta 0:00:01\n\u001b[?25hRequirement already satisfied, skipping upgrade: semver~=2.13.0 in /anaconda/envs/azureml_py38/lib/python3.8/site-packages (from responsibleai==0.23.0->raiwidgets) (2.13.0)\nRequirement already satisfied, skipping upgrade: six>=1.5 in /anaconda/envs/azureml_py38/lib/python3.8/site-packages (from python-dateutil>=2.8.1->pandas>=0.25.1->raiwidgets) (1.16.0)\nRequirement already satisfied, skipping upgrade: backcall in /anaconda/envs/azureml_py38/lib/python3.8/site-packages (from ipython==7.31.1; python_version > \"3.6\"->rai-core-flask==0.4.0->raiwidgets) (0.2.0)\nRequirement already satisfied, skipping upgrade: jedi>=0.16 in /anaconda/envs/azureml_py38/lib/python3.8/site-packages (from ipython==7.31.1; python_version > \"3.6\"->rai-core-flask==0.4.0->raiwidgets) (0.18.0)\nRequirement already satisfied, skipping upgrade: prompt-toolkit!=3.0.0,!=3.0.1,<3.1.0,>=2.0.0 in /anaconda/envs/azureml_py38/lib/python3.8/site-packages (from ipython==7.31.1; python_version > \"3.6\"->rai-core-flask==0.4.0->raiwidgets) (3.0.28)\nRequirement already satisfied, skipping upgrade: traitlets>=4.2 in /anaconda/envs/azureml_py38/lib/python3.8/site-packages (from ipython==7.31.1; python_version > \"3.6\"->rai-core-flask==0.4.0->raiwidgets) (5.5.0)\nRequirement already satisfied, skipping upgrade: pickleshare in /anaconda/envs/azureml_py38/lib/python3.8/site-packages (from ipython==7.31.1; python_version > \"3.6\"->rai-core-flask==0.4.0->raiwidgets) (0.7.5)\nRequirement already satisfied, skipping upgrade: matplotlib-inline in /anaconda/envs/azureml_py38/lib/python3.8/site-packages (from ipython==7.31.1; python_version > \"3.6\"->rai-core-flask==0.4.0->raiwidgets) (0.1.6)\nRequirement already satisfied, skipping upgrade: pexpect>4.3; sys_platform != \"win32\" in /anaconda/envs/azureml_py38/lib/python3.8/site-packages (from ipython==7.31.1; python_version > \"3.6\"->rai-core-flask==0.4.0->raiwidgets) (4.8.0)\nRequirement already satisfied, skipping upgrade: decorator in /anaconda/envs/azureml_py38/lib/python3.8/site-packages (from ipython==7.31.1; python_version > \"3.6\"->rai-core-flask==0.4.0->raiwidgets) (5.1.1)\nRequirement already satisfied, skipping upgrade: setuptools>=18.5 in /anaconda/envs/azureml_py38/lib/python3.8/site-packages (from ipython==7.31.1; python_version > \"3.6\"->rai-core-flask==0.4.0->raiwidgets) (49.6.0)\nRequirement already satisfied, skipping upgrade: pygments in /anaconda/envs/azureml_py38/lib/python3.8/site-packages (from ipython==7.31.1; python_version > \"3.6\"->rai-core-flask==0.4.0->raiwidgets) (2.13.0)\nRequirement already satisfied, skipping upgrade: zope.interface in /anaconda/envs/azureml_py38/lib/python3.8/site-packages (from gevent==21.12.0->rai-core-flask==0.4.0->raiwidgets) (5.5.1)\nRequirement already satisfied, skipping upgrade: zope.event in /anaconda/envs/azureml_py38/lib/python3.8/site-packages (from gevent==21.12.0->rai-core-flask==0.4.0->raiwidgets) (4.5.0)\nRequirement already satisfied, skipping upgrade: click>=5.1 in /anaconda/envs/azureml_py38/lib/python3.8/site-packages (from Flask->rai-core-flask==0.4.0->raiwidgets) (8.1.3)\nRequirement already satisfied, skipping upgrade: Jinja2>=2.10 in /anaconda/envs/azureml_py38/lib/python3.8/site-packages (from Flask->rai-core-flask==0.4.0->raiwidgets) (2.11.3)\nRequirement already satisfied, skipping upgrade: urllib3<1.27,>=1.21.1 in /anaconda/envs/azureml_py38/lib/python3.8/site-packages (from requests->raiutils>=0.2.0->raiwidgets) (1.26.12)\nRequirement already satisfied, skipping upgrade: idna<4,>=2.5 in /anaconda/envs/azureml_py38/lib/python3.8/site-packages (from requests->raiutils>=0.2.0->raiwidgets) (3.4)\nRequirement already satisfied, skipping upgrade: certifi>=2017.4.17 in /anaconda/envs/azureml_py38/lib/python3.8/site-packages (from requests->raiutils>=0.2.0->raiwidgets) (2022.9.24)\nRequirement already satisfied, skipping upgrade: charset-normalizer<3,>=2 in /anaconda/envs/azureml_py38/lib/python3.8/site-packages (from requests->raiutils>=0.2.0->raiwidgets) (2.1.1)\nRequirement already satisfied, skipping upgrade: importlib-resources>=1.4.0; python_version < \"3.9\" in /anaconda/envs/azureml_py38/lib/python3.8/site-packages (from jsonschema->responsibleai==0.23.0->raiwidgets) (5.10.0)\nRequirement already satisfied, skipping upgrade: pyrsistent!=0.17.0,!=0.17.1,!=0.17.2,>=0.14.0 in /anaconda/envs/azureml_py38/lib/python3.8/site-packages (from jsonschema->responsibleai==0.23.0->raiwidgets) (0.18.1)\nRequirement already satisfied, skipping upgrade: attrs>=17.4.0 in /anaconda/envs/azureml_py38/lib/python3.8/site-packages (from jsonschema->responsibleai==0.23.0->raiwidgets) (22.1.0)\nRequirement already satisfied, skipping upgrade: pkgutil-resolve-name>=1.3.10; python_version < \"3.9\" in /anaconda/envs/azureml_py38/lib/python3.8/site-packages (from jsonschema->responsibleai==0.23.0->raiwidgets) (1.3.10)\nRequirement already satisfied, skipping upgrade: llvmlite<0.37,>=0.36.0rc1 in /anaconda/envs/azureml_py38/lib/python3.8/site-packages (from numba<0.54.0->responsibleai==0.23.0->raiwidgets) (0.36.0)\nRequirement already satisfied, skipping upgrade: ml-wrappers==0.2.2 in /anaconda/envs/azureml_py38/lib/python3.8/site-packages (from interpret-community>=0.27.0->responsibleai==0.23.0->raiwidgets) (0.2.2)\nRequirement already satisfied, skipping upgrade: interpret-core[required]<=0.2.7,>=0.1.20 in /anaconda/envs/azureml_py38/lib/python3.8/site-packages (from interpret-community>=0.27.0->responsibleai==0.23.0->raiwidgets) (0.2.7)\nRequirement already satisfied, skipping upgrade: shap<=0.41.0,>=0.20.0 in /anaconda/envs/azureml_py38/lib/python3.8/site-packages (from interpret-community>=0.27.0->responsibleai==0.23.0->raiwidgets) (0.39.0)\nRequirement already satisfied, skipping upgrade: packaging in /anaconda/envs/azureml_py38/lib/python3.8/site-packages (from interpret-community>=0.27.0->responsibleai==0.23.0->raiwidgets) (21.3)\nRequirement already satisfied, skipping upgrade: jupyter-client in /anaconda/envs/azureml_py38/lib/python3.8/site-packages (from ipykernel<=6.6.0->responsibleai==0.23.0->raiwidgets) (6.1.12)\nRequirement already satisfied, skipping upgrade: tornado>=4.2 in /anaconda/envs/azureml_py38/lib/python3.8/site-packages (from ipykernel<=6.6.0->responsibleai==0.23.0->raiwidgets) (6.2)\nRequirement already satisfied, skipping upgrade: ipython-genutils in /anaconda/envs/azureml_py38/lib/python3.8/site-packages (from ipykernel<=6.6.0->responsibleai==0.23.0->raiwidgets) (0.2.0)\nRequirement already satisfied, skipping upgrade: tqdm in /anaconda/envs/azureml_py38/lib/python3.8/site-packages (from dice-ml<0.10,>=0.9->responsibleai==0.23.0->raiwidgets) (4.64.1)\nRequirement already satisfied, skipping upgrade: h5py in /anaconda/envs/azureml_py38/lib/python3.8/site-packages (from dice-ml<0.10,>=0.9->responsibleai==0.23.0->raiwidgets) (3.7.0)\nRequirement already satisfied, skipping upgrade: sparse in /anaconda/envs/azureml_py38/lib/python3.8/site-packages (from econml>=0.13.1->responsibleai==0.23.0->raiwidgets) (0.13.0)\nRequirement already satisfied, skipping upgrade: statsmodels>=0.10 in /anaconda/envs/azureml_py38/lib/python3.8/site-packages (from econml>=0.13.1->responsibleai==0.23.0->raiwidgets) (0.11.0)\nRequirement already satisfied, skipping upgrade: parso<0.9.0,>=0.8.0 in /anaconda/envs/azureml_py38/lib/python3.8/site-packages (from jedi>=0.16->ipython==7.31.1; python_version > \"3.6\"->rai-core-flask==0.4.0->raiwidgets) (0.8.3)\nRequirement already satisfied, skipping upgrade: wcwidth in /anaconda/envs/azureml_py38/lib/python3.8/site-packages (from prompt-toolkit!=3.0.0,!=3.0.1,<3.1.0,>=2.0.0->ipython==7.31.1; python_version > \"3.6\"->rai-core-flask==0.4.0->raiwidgets) (0.2.5)\nRequirement already satisfied, skipping upgrade: ptyprocess>=0.5 in /anaconda/envs/azureml_py38/lib/python3.8/site-packages (from pexpect>4.3; sys_platform != \"win32\"->ipython==7.31.1; python_version > \"3.6\"->rai-core-flask==0.4.0->raiwidgets) (0.7.0)\nRequirement already satisfied, skipping upgrade: zipp>=3.1.0; python_version < \"3.10\" in /anaconda/envs/azureml_py38/lib/python3.8/site-packages (from importlib-resources>=1.4.0; python_version < \"3.9\"->jsonschema->responsibleai==0.23.0->raiwidgets) (3.9.0)\nRequirement already satisfied, skipping upgrade: slicer==0.0.7 in /anaconda/envs/azureml_py38/lib/python3.8/site-packages (from shap<=0.41.0,>=0.20.0->interpret-community>=0.27.0->responsibleai==0.23.0->raiwidgets) (0.0.7)\nRequirement already satisfied, skipping upgrade: cloudpickle in /anaconda/envs/azureml_py38/lib/python3.8/site-packages (from shap<=0.41.0,>=0.20.0->interpret-community>=0.27.0->responsibleai==0.23.0->raiwidgets) (1.6.0)\nRequirement already satisfied, skipping upgrade: pyparsing!=3.0.5,>=2.0.2 in /anaconda/envs/azureml_py38/lib/python3.8/site-packages (from packaging->interpret-community>=0.27.0->responsibleai==0.23.0->raiwidgets) (3.0.9)\nRequirement already satisfied, skipping upgrade: jupyter-core>=4.6.0 in /anaconda/envs/azureml_py38/lib/python3.8/site-packages (from jupyter-client->ipykernel<=6.6.0->responsibleai==0.23.0->raiwidgets) (4.11.2)\nRequirement already satisfied, skipping upgrade: pyzmq>=13 in /anaconda/envs/azureml_py38/lib/python3.8/site-packages (from jupyter-client->ipykernel<=6.6.0->responsibleai==0.23.0->raiwidgets) (24.0.1)\nRequirement already satisfied, skipping upgrade: patsy>=0.5 in /anaconda/envs/azureml_py38/lib/python3.8/site-packages (from statsmodels>=0.10->econml>=0.13.1->responsibleai==0.23.0->raiwidgets) (0.5.3)\n\u001b[31mERROR: pycaret 2.3.10 has requirement pyyaml<6.0.0, but you'll have pyyaml 6.0 which is incompatible.\u001b[0m\n\u001b[31mERROR: pycaret 2.3.10 has requirement scikit-learn==0.23.2, but you'll have scikit-learn 0.22.1 which is incompatible.\u001b[0m\n\u001b[31mERROR: jupyter-console 6.4.4 has requirement jupyter-client>=7.0.0, but you'll have jupyter-client 6.1.12 which is incompatible.\u001b[0m\n\u001b[31mERROR: azureml-widgets 1.47.0 has requirement jinja2<=2.11.2, but you'll have jinja2 2.11.3 which is incompatible.\u001b[0m\n\u001b[31mERROR: azureml-responsibleai 1.47.0 has requirement responsibleai==0.22.0, but you'll have responsibleai 0.23.0 which is incompatible.\u001b[0m\n\u001b[31mERROR: azureml-contrib-notebook 1.47.0 has requirement nbconvert<6, but you'll have nbconvert 7.2.4 which is incompatible.\u001b[0m\n\u001b[31mERROR: autokeras 1.0.16 has requirement tensorflow<=2.5.0,>=2.3.0, but you'll have tensorflow 2.2.1 which is incompatible.\u001b[0m\nInstalling collected packages: ipython, greenlet, gevent, rai-core-flask, dice-ml, econml, responsibleai, raiwidgets\n  Attempting uninstall: ipython\n    Found existing installation: ipython 7.16.1\n    Uninstalling ipython-7.16.1:\n      Successfully uninstalled ipython-7.16.1\n  Attempting uninstall: greenlet\n    Found existing installation: greenlet 0.4.17\n    Uninstalling greenlet-0.4.17:\n      Successfully uninstalled greenlet-0.4.17\n  Attempting uninstall: gevent\n    Found existing installation: gevent 20.9.0\n    Uninstalling gevent-20.9.0:\n      Successfully uninstalled gevent-20.9.0\n  Attempting uninstall: rai-core-flask\n    Found existing installation: rai-core-flask 0.2.3\n    Uninstalling rai-core-flask-0.2.3:\n      Successfully uninstalled rai-core-flask-0.2.3\n  Attempting uninstall: dice-ml\n    Found existing installation: dice-ml 0.6.1\n    Uninstalling dice-ml-0.6.1:\n      Successfully uninstalled dice-ml-0.6.1\n  Attempting uninstall: econml\n    Found existing installation: econml 0.12.0b4\n    Uninstalling econml-0.12.0b4:\n      Successfully uninstalled econml-0.12.0b4\n  Attempting uninstall: responsibleai\n    Found existing installation: responsibleai 0.9.2\n    Uninstalling responsibleai-0.9.2:\n      Successfully uninstalled responsibleai-0.9.2\n  Attempting uninstall: raiwidgets\n    Found existing installation: raiwidgets 0.9.2\n    Uninstalling raiwidgets-0.9.2:\n      Successfully uninstalled raiwidgets-0.9.2\nSuccessfully installed dice-ml-0.9 econml-0.14.0 gevent-21.12.0 greenlet-1.1.2 ipython-7.31.1 rai-core-flask-0.4.0 raiwidgets-0.23.0 responsibleai-0.23.0\nRequirement already up-to-date: pandas in /anaconda/envs/azureml_py38/lib/python3.8/site-packages (1.5.2)\nRequirement already satisfied, skipping upgrade: python-dateutil>=2.8.1 in /anaconda/envs/azureml_py38/lib/python3.8/site-packages (from pandas) (2.8.2)\nRequirement already satisfied, skipping upgrade: numpy>=1.20.3; python_version < \"3.10\" in /anaconda/envs/azureml_py38/lib/python3.8/site-packages (from pandas) (1.21.6)\nRequirement already satisfied, skipping upgrade: pytz>=2020.1 in /anaconda/envs/azureml_py38/lib/python3.8/site-packages (from pandas) (2022.5)\nRequirement already satisfied, skipping upgrade: six>=1.5 in /anaconda/envs/azureml_py38/lib/python3.8/site-packages (from python-dateutil>=2.8.1->pandas) (1.16.0)\n"
        }
      ],
      "execution_count": 3,
      "metadata": {
        "jupyter": {
          "source_hidden": false,
          "outputs_hidden": true
        },
        "nteract": {
          "transient": {
            "deleting": false
          }
        }
      }
    },
    {
      "cell_type": "markdown",
      "source": [
        "Make sure to restart the kernel!"
      ],
      "metadata": {
        "nteract": {
          "transient": {
            "deleting": false
          }
        }
      }
    },
    {
      "cell_type": "code",
      "source": [
        "import pandas as pd\n",
        "from raiwidgets import ResponsibleAIDashboard\n",
        "from responsibleai import RAIInsights"
      ],
      "outputs": [
        {
          "output_type": "stream",
          "name": "stderr",
          "text": "WARNING:root:'PYARROW_IGNORE_TIMEZONE' environment variable was not set. It is required to set this environment variable to '1' in both driver and executor sides if you use pyarrow>=2.0.0. pandas-on-Spark will set it for you but it does not work if there is a Spark context already launched.\n/anaconda/envs/azureml_py38/lib/python3.8/site-packages/dask/dataframe/utils.py:367: FutureWarning: pandas.Int64Index is deprecated and will be removed from pandas in a future version. Use pandas.Index with the appropriate dtype instead.\n  _numeric_index_types = (pd.Int64Index, pd.Float64Index, pd.UInt64Index)\n/anaconda/envs/azureml_py38/lib/python3.8/site-packages/dask/dataframe/utils.py:367: FutureWarning: pandas.Float64Index is deprecated and will be removed from pandas in a future version. Use pandas.Index with the appropriate dtype instead.\n  _numeric_index_types = (pd.Int64Index, pd.Float64Index, pd.UInt64Index)\n/anaconda/envs/azureml_py38/lib/python3.8/site-packages/dask/dataframe/utils.py:367: FutureWarning: pandas.UInt64Index is deprecated and will be removed from pandas in a future version. Use pandas.Index with the appropriate dtype instead.\n  _numeric_index_types = (pd.Int64Index, pd.Float64Index, pd.UInt64Index)\n/anaconda/envs/azureml_py38/lib/python3.8/site-packages/statsmodels/tsa/base/tsa_model.py:7: FutureWarning: pandas.Int64Index is deprecated and will be removed from pandas in a future version. Use pandas.Index with the appropriate dtype instead.\n  from pandas import (to_datetime, Int64Index, DatetimeIndex, Period,\n/anaconda/envs/azureml_py38/lib/python3.8/site-packages/statsmodels/tsa/base/tsa_model.py:7: FutureWarning: pandas.Float64Index is deprecated and will be removed from pandas in a future version. Use pandas.Index with the appropriate dtype instead.\n  from pandas import (to_datetime, Int64Index, DatetimeIndex, Period,\n"
        }
      ],
      "execution_count": 2,
      "metadata": {
        "jupyter": {
          "source_hidden": false,
          "outputs_hidden": true
        },
        "nteract": {
          "transient": {
            "deleting": false
          }
        },
        "gather": {
          "logged": 1671289935012
        }
      }
    },
    {
      "cell_type": "code",
      "source": [
        "# !pip install lightgbm"
      ],
      "outputs": [
        {
          "output_type": "stream",
          "name": "stdout",
          "text": "Requirement already satisfied: lightgbm in /anaconda/envs/azureml_py38/lib/python3.8/site-packages (3.2.1)\r\nRequirement already satisfied: wheel in /anaconda/envs/azureml_py38/lib/python3.8/site-packages (from lightgbm) (0.37.1)\r\nRequirement already satisfied: scipy in /anaconda/envs/azureml_py38/lib/python3.8/site-packages (from lightgbm) (1.5.3)\r\nRequirement already satisfied: scikit-learn!=0.22.0 in /anaconda/envs/azureml_py38/lib/python3.8/site-packages (from lightgbm) (0.22.1)\r\nRequirement already satisfied: numpy in /anaconda/envs/azureml_py38/lib/python3.8/site-packages (from lightgbm) (1.21.6)\r\nRequirement already satisfied: joblib>=0.11 in /anaconda/envs/azureml_py38/lib/python3.8/site-packages (from scikit-learn!=0.22.0->lightgbm) (0.14.1)\r\n"
        }
      ],
      "execution_count": 5,
      "metadata": {
        "jupyter": {
          "source_hidden": false,
          "outputs_hidden": true
        },
        "nteract": {
          "transient": {
            "deleting": false
          }
        },
        "gather": {
          "logged": 1671259460927
        }
      }
    },
    {
      "cell_type": "code",
      "source": [
        "import zipfile\n",
        "\n",
        "from sklearn.pipeline import Pipeline\n",
        "from sklearn.impute import SimpleImputer\n",
        "from sklearn.preprocessing import StandardScaler, OneHotEncoder\n",
        "from sklearn.compose import ColumnTransformer\n",
        "\n",
        "import pandas as pd\n",
        "from lightgbm import LGBMClassifier"
      ],
      "outputs": [],
      "execution_count": 4,
      "metadata": {
        "jupyter": {
          "source_hidden": false,
          "outputs_hidden": false
        },
        "nteract": {
          "transient": {
            "deleting": false
          }
        },
        "gather": {
          "logged": 1671294540370
        }
      }
    },
    {
      "cell_type": "code",
      "source": [
        "from raiutils.dataset import fetch_dataset\n",
        "from sklearn.pipeline import Pipeline\n",
        "from sklearn.impute import SimpleImputer\n",
        "from sklearn.preprocessing import StandardScaler, OneHotEncoder\n",
        "from sklearn.compose import ColumnTransformer\n",
        "\n",
        "def split_label(dataset, target_feature):\n",
        "    X = dataset.drop([target_feature], axis=1)\n",
        "    y = dataset[[target_feature]]\n",
        "    return X, y\n",
        "\n",
        "def create_classification_pipeline(X):\n",
        "    pipe_cfg = {\n",
        "        'num_cols': X.dtypes[X.dtypes == 'int64'].index.values.tolist(),\n",
        "        'cat_cols': X.dtypes[X.dtypes == 'object'].index.values.tolist(),\n",
        "    }\n",
        "    num_pipe = Pipeline([\n",
        "        ('num_imputer', SimpleImputer(strategy='median')),\n",
        "        ('num_scaler', StandardScaler())\n",
        "    ])\n",
        "    cat_pipe = Pipeline([\n",
        "        ('cat_imputer', SimpleImputer(strategy='constant', fill_value='?')),\n",
        "        ('cat_encoder', OneHotEncoder(handle_unknown='ignore', sparse=False))\n",
        "    ])\n",
        "    feat_pipe = ColumnTransformer([\n",
        "        ('num_pipe', num_pipe, pipe_cfg['num_cols']),\n",
        "        ('cat_pipe', cat_pipe, pipe_cfg['cat_cols'])\n",
        "    ])\n",
        "\n",
        "    # Append classifier to preprocessing pipeline.\n",
        "    # Now we have a full prediction pipeline.\n",
        "    pipeline = Pipeline(steps=[('preprocessor', feat_pipe),\n",
        "                               ('model', LGBMClassifier(random_state=0))])\n",
        "\n",
        "    return pipeline\n",
        "\n",
        "outdirname = 'responsibleai.12.28.21'\n",
        "zipfilename = outdirname + '.zip'\n",
        "\n",
        "fetch_dataset('https://publictestdatasets.blob.core.windows.net/data/' + zipfilename, zipfilename)\n",
        "\n",
        "with zipfile.ZipFile(zipfilename, 'r') as unzip:\n",
        "    unzip.extractall('.')\n",
        "\n",
        "target_feature = 'income'\n",
        "categorical_features = ['workclass', 'education', 'marital-status',\n",
        "                        'occupation', 'relationship', 'race', 'gender', 'native-country']\n",
        "\n",
        "\n",
        "train_data = pd.read_csv('adult-train.csv', skipinitialspace=True)\n",
        "test_data = pd.read_csv('adult-test.csv', skipinitialspace=True)\n",
        "\n",
        "X_train_original, y_train = split_label(train_data, target_feature)\n",
        "X_test_original, y_test = split_label(test_data, target_feature)\n",
        "\n",
        "pipeline = create_classification_pipeline(X_train_original)\n",
        "\n",
        "y_train = y_train[target_feature].to_numpy()\n",
        "y_test = y_test[target_feature].to_numpy()\n",
        "\n",
        "\n",
        "# Take 500 samples from the test data\n",
        "test_data_sample = test_data.sample(n=500, random_state=5)"
      ],
      "outputs": [
        {
          "output_type": "stream",
          "name": "stdout",
          "text": "Dataset download attempt 1 of 4\n"
        }
      ],
      "execution_count": 5,
      "metadata": {
        "jupyter": {
          "source_hidden": false,
          "outputs_hidden": false
        },
        "nteract": {
          "transient": {
            "deleting": false
          }
        },
        "gather": {
          "logged": 1671294576306
        }
      }
    },
    {
      "cell_type": "code",
      "source": [
        "model = pipeline.fit(X_train_original, y_train)"
      ],
      "outputs": [],
      "execution_count": 6,
      "metadata": {
        "jupyter": {
          "source_hidden": false,
          "outputs_hidden": false
        },
        "nteract": {
          "transient": {
            "deleting": false
          }
        },
        "gather": {
          "logged": 1671294591310
        }
      }
    },
    {
      "cell_type": "markdown",
      "source": [
        "# Create a model"
      ],
      "metadata": {
        "nteract": {
          "transient": {
            "deleting": false
          }
        }
      }
    },
    {
      "cell_type": "code",
      "source": [
        "from raiwidgets import ResponsibleAIDashboard\n",
        "from responsibleai import RAIInsights"
      ],
      "outputs": [],
      "execution_count": 7,
      "metadata": {
        "jupyter": {
          "source_hidden": false,
          "outputs_hidden": false
        },
        "nteract": {
          "transient": {
            "deleting": false
          }
        },
        "gather": {
          "logged": 1671294606791
        }
      }
    },
    {
      "cell_type": "code",
      "source": [
        "rai_insights = RAIInsights(model, train_data, test_data_sample, target_feature, 'classification',\n",
        "                           categorical_features=categorical_features)"
      ],
      "outputs": [],
      "execution_count": 8,
      "metadata": {
        "jupyter": {
          "source_hidden": false,
          "outputs_hidden": false
        },
        "nteract": {
          "transient": {
            "deleting": false
          }
        },
        "gather": {
          "logged": 1671294620431
        }
      }
    },
    {
      "cell_type": "code",
      "source": [
        "# Interpretability\n",
        "rai_insights.explainer.add()\n",
        "# Error Analysis\n",
        "rai_insights.error_analysis.add()\n",
        "# Counterfactuals: accepts total number of counterfactuals to generate, the label that they should have, and a list of \n",
        "                # strings of categorical feature names\n",
        "rai_insights.counterfactual.add(total_CFs=10, desired_class='opposite')"
      ],
      "outputs": [],
      "execution_count": 9,
      "metadata": {
        "jupyter": {
          "source_hidden": false,
          "outputs_hidden": false
        },
        "nteract": {
          "transient": {
            "deleting": false
          }
        },
        "gather": {
          "logged": 1671294630739
        }
      }
    },
    {
      "cell_type": "code",
      "source": [
        "rai_insights.compute()"
      ],
      "outputs": [
        {
          "output_type": "stream",
          "name": "stderr",
          "text": "100%|██████████| 500/500 [04:02<00:00,  2.07it/s] \nUsing categorical_feature in Dataset.\nPassing a set as an indexer is deprecated and will raise in a future version. Use a list instead.\nPassing a set as an indexer is deprecated and will raise in a future version. Use a list instead.\nPassing a set as an indexer is deprecated and will raise in a future version. Use a list instead.\nPassing a set as an indexer is deprecated and will raise in a future version. Use a list instead.\nPassing a set as an indexer is deprecated and will raise in a future version. Use a list instead.\nPassing a set as an indexer is deprecated and will raise in a future version. Use a list instead.\nPassing a set as an indexer is deprecated and will raise in a future version. Use a list instead.\nPassing a set as an indexer is deprecated and will raise in a future version. Use a list instead.\nPassing a set as an indexer is deprecated and will raise in a future version. Use a list instead.\nPassing a set as an indexer is deprecated and will raise in a future version. Use a list instead.\nPassing a set as an indexer is deprecated and will raise in a future version. Use a list instead.\nPassing a set as an indexer is deprecated and will raise in a future version. Use a list instead.\nPassing a set as an indexer is deprecated and will raise in a future version. Use a list instead.\nPassing a set as an indexer is deprecated and will raise in a future version. Use a list instead.\nPassing a set as an indexer is deprecated and will raise in a future version. Use a list instead.\ncategorical_feature keyword has been found in `params` and will be ignored.\nPlease use categorical_feature argument of the Dataset constructor to pass this parameter.\n"
        }
      ],
      "execution_count": 10,
      "metadata": {
        "jupyter": {
          "source_hidden": false,
          "outputs_hidden": false
        },
        "nteract": {
          "transient": {
            "deleting": false
          }
        },
        "gather": {
          "logged": 1671294890370
        }
      }
    },
    {
      "cell_type": "markdown",
      "source": [
        "# Creating a dashboard"
      ],
      "metadata": {
        "nteract": {
          "transient": {
            "deleting": false
          }
        }
      }
    },
    {
      "cell_type": "code",
      "source": [
        "# Compose some cohorts which can be injected into the ResponsibleAIDashboard.\n",
        "from raiwidgets.cohort import Cohort, CohortFilter, CohortFilterMethods\n",
        "\n",
        "# Cohort on age and hours-per-week features in the dataset\n",
        "cohort_filter_age = CohortFilter(\n",
        "    method=CohortFilterMethods.METHOD_LESS,\n",
        "    arg=[65],\n",
        "    column='age')\n",
        "cohort_filter_hours_per_week = CohortFilter(\n",
        "    method=CohortFilterMethods.METHOD_GREATER,\n",
        "    arg=[40],\n",
        "    column='hours-per-week')\n",
        "\n",
        "user_cohort_age_and_hours_per_week = Cohort(name='Cohort Age and Hours-Per-Week')\n",
        "user_cohort_age_and_hours_per_week.add_cohort_filter(cohort_filter_age)\n",
        "user_cohort_age_and_hours_per_week.add_cohort_filter(cohort_filter_hours_per_week)\n",
        "\n",
        "# Cohort on marital-status feature in the dataset\n",
        "cohort_filter_marital_status = CohortFilter(\n",
        "    method=CohortFilterMethods.METHOD_INCLUDES,\n",
        "    arg=[\"Never-married\", \"Divorced\"],\n",
        "    column='marital-status')\n",
        "\n",
        "user_cohort_marital_status = Cohort(name='Cohort Marital-Status')\n",
        "user_cohort_marital_status.add_cohort_filter(cohort_filter_marital_status)\n",
        "\n",
        "# Cohort on index of the row in the dataset\n",
        "cohort_filter_index = CohortFilter(\n",
        "    method=CohortFilterMethods.METHOD_LESS,\n",
        "    arg=[20],\n",
        "    column='Index')\n",
        "\n",
        "user_cohort_index = Cohort(name='Cohort Index')\n",
        "user_cohort_index.add_cohort_filter(cohort_filter_index)\n",
        "\n",
        "# Cohort on predicted target value\n",
        "cohort_filter_predicted_y = CohortFilter(\n",
        "    method=CohortFilterMethods.METHOD_INCLUDES,\n",
        "    arg=['>50K'],\n",
        "    column='Predicted Y')\n",
        "\n",
        "user_cohort_predicted_y = Cohort(name='Cohort Predicted Y')\n",
        "user_cohort_predicted_y.add_cohort_filter(cohort_filter_predicted_y)\n",
        "\n",
        "# Cohort on predicted target value\n",
        "cohort_filter_true_y = CohortFilter(\n",
        "    method=CohortFilterMethods.METHOD_INCLUDES,\n",
        "    arg=['>50K'],\n",
        "    column='True Y')\n",
        "\n",
        "user_cohort_true_y = Cohort(name='Cohort True Y')\n",
        "user_cohort_true_y.add_cohort_filter(cohort_filter_true_y)\n",
        "\n",
        "cohort_list = [user_cohort_age_and_hours_per_week,\n",
        "               user_cohort_marital_status,\n",
        "               user_cohort_index,\n",
        "               user_cohort_predicted_y,\n",
        "               user_cohort_true_y]"
      ],
      "outputs": [],
      "execution_count": 11,
      "metadata": {
        "jupyter": {
          "source_hidden": false,
          "outputs_hidden": false
        },
        "nteract": {
          "transient": {
            "deleting": false
          }
        },
        "gather": {
          "logged": 1671295201668
        }
      }
    },
    {
      "cell_type": "markdown",
      "source": [
        "Let's visualize and explore the model."
      ],
      "metadata": {
        "nteract": {
          "transient": {
            "deleting": false
          }
        }
      }
    },
    {
      "cell_type": "code",
      "source": [
        "ResponsibleAIDashboard(rai_insights, cohort_list=cohort_list)"
      ],
      "outputs": [
        {
          "output_type": "stream",
          "name": "stdout",
          "text": "ResponsibleAI started at https://amlblog2022-ds12-v2-5000.germanywestcentral.instances.azureml.ms\n"
        },
        {
          "output_type": "execute_result",
          "execution_count": 12,
          "data": {
            "text/plain": "<raiwidgets.responsibleai_dashboard.ResponsibleAIDashboard at 0x7f9457914850>"
          },
          "metadata": {}
        },
        {
          "output_type": "stream",
          "name": "stderr",
          "text": "Using categorical_feature in Dataset.\nPassing a set as an indexer is deprecated and will raise in a future version. Use a list instead.\nPassing a set as an indexer is deprecated and will raise in a future version. Use a list instead.\nPassing a set as an indexer is deprecated and will raise in a future version. Use a list instead.\nPassing a set as an indexer is deprecated and will raise in a future version. Use a list instead.\nPassing a set as an indexer is deprecated and will raise in a future version. Use a list instead.\nPassing a set as an indexer is deprecated and will raise in a future version. Use a list instead.\nPassing a set as an indexer is deprecated and will raise in a future version. Use a list instead.\nPassing a set as an indexer is deprecated and will raise in a future version. Use a list instead.\nPassing a set as an indexer is deprecated and will raise in a future version. Use a list instead.\nPassing a set as an indexer is deprecated and will raise in a future version. Use a list instead.\nPassing a set as an indexer is deprecated and will raise in a future version. Use a list instead.\nPassing a set as an indexer is deprecated and will raise in a future version. Use a list instead.\nPassing a set as an indexer is deprecated and will raise in a future version. Use a list instead.\nPassing a set as an indexer is deprecated and will raise in a future version. Use a list instead.\nPassing a set as an indexer is deprecated and will raise in a future version. Use a list instead.\nUsing categorical_feature in Dataset.\nPassing a set as an indexer is deprecated and will raise in a future version. Use a list instead.\nPassing a set as an indexer is deprecated and will raise in a future version. Use a list instead.\nPassing a set as an indexer is deprecated and will raise in a future version. Use a list instead.\nPassing a set as an indexer is deprecated and will raise in a future version. Use a list instead.\nPassing a set as an indexer is deprecated and will raise in a future version. Use a list instead.\nPassing a set as an indexer is deprecated and will raise in a future version. Use a list instead.\nPassing a set as an indexer is deprecated and will raise in a future version. Use a list instead.\nPassing a set as an indexer is deprecated and will raise in a future version. Use a list instead.\nPassing a set as an indexer is deprecated and will raise in a future version. Use a list instead.\nPassing a set as an indexer is deprecated and will raise in a future version. Use a list instead.\nPassing a set as an indexer is deprecated and will raise in a future version. Use a list instead.\nPrecision is ill-defined and being set to 0.0 due to no predicted samples. Use `zero_division` parameter to control this behavior.\nPassing a set as an indexer is deprecated and will raise in a future version. Use a list instead.\nPassing a set as an indexer is deprecated and will raise in a future version. Use a list instead.\nPassing a set as an indexer is deprecated and will raise in a future version. Use a list instead.\nPassing a set as an indexer is deprecated and will raise in a future version. Use a list instead.\nUsing categorical_feature in Dataset.\nPassing a set as an indexer is deprecated and will raise in a future version. Use a list instead.\nPassing a set as an indexer is deprecated and will raise in a future version. Use a list instead.\nPassing a set as an indexer is deprecated and will raise in a future version. Use a list instead.\nPassing a set as an indexer is deprecated and will raise in a future version. Use a list instead.\nPassing a set as an indexer is deprecated and will raise in a future version. Use a list instead.\nPassing a set as an indexer is deprecated and will raise in a future version. Use a list instead.\nPassing a set as an indexer is deprecated and will raise in a future version. Use a list instead.\nPassing a set as an indexer is deprecated and will raise in a future version. Use a list instead.\nPassing a set as an indexer is deprecated and will raise in a future version. Use a list instead.\nPassing a set as an indexer is deprecated and will raise in a future version. Use a list instead.\nPassing a set as an indexer is deprecated and will raise in a future version. Use a list instead.\nPassing a set as an indexer is deprecated and will raise in a future version. Use a list instead.\nPassing a set as an indexer is deprecated and will raise in a future version. Use a list instead.\nPassing a set as an indexer is deprecated and will raise in a future version. Use a list instead.\nPassing a set as an indexer is deprecated and will raise in a future version. Use a list instead.\n"
        }
      ],
      "execution_count": 12,
      "metadata": {
        "jupyter": {
          "source_hidden": false,
          "outputs_hidden": false
        },
        "nteract": {
          "transient": {
            "deleting": false
          }
        },
        "gather": {
          "logged": 1671295243627
        }
      }
    }
  ],
  "metadata": {
    "kernelspec": {
      "name": "python38-azureml",
      "language": "python",
      "display_name": "Python 3.8 - AzureML"
    },
    "language_info": {
      "name": "python",
      "version": "3.8.5",
      "mimetype": "text/x-python",
      "codemirror_mode": {
        "name": "ipython",
        "version": 3
      },
      "pygments_lexer": "ipython3",
      "nbconvert_exporter": "python",
      "file_extension": ".py"
    },
    "kernel_info": {
      "name": "python38-azureml"
    },
    "nteract": {
      "version": "nteract-front-end@1.0.0"
    },
    "microsoft": {
      "host": {
        "AzureML": {
          "notebookHasBeenCompleted": true
        }
      }
    }
  },
  "nbformat": 4,
  "nbformat_minor": 2
}