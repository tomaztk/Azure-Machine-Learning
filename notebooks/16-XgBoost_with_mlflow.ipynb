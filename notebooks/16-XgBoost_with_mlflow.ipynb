{
  "cells": [
    {
      "cell_type": "markdown",
      "source": [
        "# Training and tracking an XGBoost classifier with MLflow\n",
        "\n",
        "This notebook demonstrates how to use MLflow for tracking experiment using MLflow in Azure ML.\n",
        "Dataset used in this notebook is [Heart Disease Data Set](https://archive.ics.uci.edu/ml/datasets/heart+disease). This dataset contains 76 attributes, but we will be using a subset of 14 of them. \n",
        "\n",
        "The \"goal\" field refers to the presence of heart disease in the patient. \n",
        "It is integer valued from 0 (no presence) to 4 (strong presence). This sample notebook will focus on attempting to distinguish presence (values 1,2,3,4) from absence (value 0)."
      ],
      "metadata": {}
    },
    {
      "cell_type": "code",
      "source": [
        "# Ensure you have the dependencies for this notebook\n",
        "%pip install -r xgboost_classification_mlflow.txt"
      ],
      "outputs": [
        {
          "output_type": "stream",
          "name": "stdout",
          "text": "Requirement already satisfied: xgboost in /anaconda/envs/azureml_py310_sdkv2/lib/python3.10/site-packages (from -r xgboost_classification_mlflow.txt (line 1)) (1.7.2)\nRequirement already satisfied: mlflow in /anaconda/envs/azureml_py310_sdkv2/lib/python3.10/site-packages (from -r xgboost_classification_mlflow.txt (line 2)) (1.30.0)\nRequirement already satisfied: azureml-mlflow in /anaconda/envs/azureml_py310_sdkv2/lib/python3.10/site-packages (from -r xgboost_classification_mlflow.txt (line 3)) (1.47.0)\nRequirement already satisfied: scikit-learn in /anaconda/envs/azureml_py310_sdkv2/lib/python3.10/site-packages (from -r xgboost_classification_mlflow.txt (line 4)) (1.2.0)\nRequirement already satisfied: pandas in /anaconda/envs/azureml_py310_sdkv2/lib/python3.10/site-packages (from -r xgboost_classification_mlflow.txt (line 5)) (1.5.1)\nRequirement already satisfied: numpy in /anaconda/envs/azureml_py310_sdkv2/lib/python3.10/site-packages (from -r xgboost_classification_mlflow.txt (line 6)) (1.23.4)\nRequirement already satisfied: matplotlib in /anaconda/envs/azureml_py310_sdkv2/lib/python3.10/site-packages (from -r xgboost_classification_mlflow.txt (line 7)) (3.6.2)\nRequirement already satisfied: scipy in /anaconda/envs/azureml_py310_sdkv2/lib/python3.10/site-packages (from xgboost->-r xgboost_classification_mlflow.txt (line 1)) (1.9.3)\nRequirement already satisfied: prometheus-flask-exporter<1 in /anaconda/envs/azureml_py310_sdkv2/lib/python3.10/site-packages (from mlflow->-r xgboost_classification_mlflow.txt (line 2)) (0.21.0)\nRequirement already satisfied: docker<7,>=4.0.0 in /anaconda/envs/azureml_py310_sdkv2/lib/python3.10/site-packages (from mlflow->-r xgboost_classification_mlflow.txt (line 2)) (6.0.1)\nRequirement already satisfied: click<9,>=7.0 in /anaconda/envs/azureml_py310_sdkv2/lib/python3.10/site-packages (from mlflow->-r xgboost_classification_mlflow.txt (line 2)) (8.0.4)\nRequirement already satisfied: sqlparse<1,>=0.4.0 in /anaconda/envs/azureml_py310_sdkv2/lib/python3.10/site-packages (from mlflow->-r xgboost_classification_mlflow.txt (line 2)) (0.4.3)\nRequirement already satisfied: importlib-metadata!=4.7.0,<6,>=3.7.0 in /anaconda/envs/azureml_py310_sdkv2/lib/python3.10/site-packages (from mlflow->-r xgboost_classification_mlflow.txt (line 2)) (5.0.0)\nRequirement already satisfied: querystring-parser<2 in /anaconda/envs/azureml_py310_sdkv2/lib/python3.10/site-packages (from mlflow->-r xgboost_classification_mlflow.txt (line 2)) (1.2.4)\nRequirement already satisfied: pytz<2023 in /anaconda/envs/azureml_py310_sdkv2/lib/python3.10/site-packages (from mlflow->-r xgboost_classification_mlflow.txt (line 2)) (2022.6)\nRequirement already satisfied: alembic<2 in /anaconda/envs/azureml_py310_sdkv2/lib/python3.10/site-packages (from mlflow->-r xgboost_classification_mlflow.txt (line 2)) (1.8.1)\nRequirement already satisfied: entrypoints<1 in /anaconda/envs/azureml_py310_sdkv2/lib/python3.10/site-packages (from mlflow->-r xgboost_classification_mlflow.txt (line 2)) (0.4)\nRequirement already satisfied: cloudpickle<3 in /anaconda/envs/azureml_py310_sdkv2/lib/python3.10/site-packages (from mlflow->-r xgboost_classification_mlflow.txt (line 2)) (2.2.0)\nRequirement already satisfied: gunicorn<21 in /anaconda/envs/azureml_py310_sdkv2/lib/python3.10/site-packages (from mlflow->-r xgboost_classification_mlflow.txt (line 2)) (20.1.0)\nRequirement already satisfied: sqlalchemy<2,>=1.4.0 in /anaconda/envs/azureml_py310_sdkv2/lib/python3.10/site-packages (from mlflow->-r xgboost_classification_mlflow.txt (line 2)) (1.4.43)\nRequirement already satisfied: protobuf<5,>=3.12.0 in /anaconda/envs/azureml_py310_sdkv2/lib/python3.10/site-packages (from mlflow->-r xgboost_classification_mlflow.txt (line 2)) (3.20.3)\nRequirement already satisfied: pyyaml<7,>=5.1 in /anaconda/envs/azureml_py310_sdkv2/lib/python3.10/site-packages (from mlflow->-r xgboost_classification_mlflow.txt (line 2)) (6.0)\nRequirement already satisfied: requests<3,>=2.17.3 in /anaconda/envs/azureml_py310_sdkv2/lib/python3.10/site-packages (from mlflow->-r xgboost_classification_mlflow.txt (line 2)) (2.28.1)\nRequirement already satisfied: Flask<3 in /anaconda/envs/azureml_py310_sdkv2/lib/python3.10/site-packages (from mlflow->-r xgboost_classification_mlflow.txt (line 2)) (2.2.2)\nRequirement already satisfied: packaging<22 in /anaconda/envs/azureml_py310_sdkv2/lib/python3.10/site-packages (from mlflow->-r xgboost_classification_mlflow.txt (line 2)) (21.3)\nRequirement already satisfied: databricks-cli<1,>=0.8.7 in /anaconda/envs/azureml_py310_sdkv2/lib/python3.10/site-packages (from mlflow->-r xgboost_classification_mlflow.txt (line 2)) (0.17.3)\nRequirement already satisfied: gitpython<4,>=2.1.0 in /anaconda/envs/azureml_py310_sdkv2/lib/python3.10/site-packages (from mlflow->-r xgboost_classification_mlflow.txt (line 2)) (3.1.29)\nRequirement already satisfied: azure-core!=1.22.0,<2.0.0,>=1.8.0 in /anaconda/envs/azureml_py310_sdkv2/lib/python3.10/site-packages (from azureml-mlflow->-r xgboost_classification_mlflow.txt (line 3)) (1.26.1)\nRequirement already satisfied: msrest>=0.6.18 in /anaconda/envs/azureml_py310_sdkv2/lib/python3.10/site-packages (from azureml-mlflow->-r xgboost_classification_mlflow.txt (line 3)) (0.7.1)\nRequirement already satisfied: azure-storage-blob<=12.13.0,>=12.5.0 in /anaconda/envs/azureml_py310_sdkv2/lib/python3.10/site-packages (from azureml-mlflow->-r xgboost_classification_mlflow.txt (line 3)) (12.13.0)\nRequirement already satisfied: jsonpickle in /anaconda/envs/azureml_py310_sdkv2/lib/python3.10/site-packages (from azureml-mlflow->-r xgboost_classification_mlflow.txt (line 3)) (2.2.0)\nRequirement already satisfied: mlflow-skinny in /anaconda/envs/azureml_py310_sdkv2/lib/python3.10/site-packages (from azureml-mlflow->-r xgboost_classification_mlflow.txt (line 3)) (1.30.0)\nRequirement already satisfied: azure-common<2.0.0,>=1.1 in /anaconda/envs/azureml_py310_sdkv2/lib/python3.10/site-packages (from azureml-mlflow->-r xgboost_classification_mlflow.txt (line 3)) (1.1.28)\nRequirement already satisfied: azure-mgmt-core<2.0.0,>=1.2.0 in /anaconda/envs/azureml_py310_sdkv2/lib/python3.10/site-packages (from azureml-mlflow->-r xgboost_classification_mlflow.txt (line 3)) (1.3.2)\nRequirement already satisfied: python-dateutil<3.0.0,>=2.7.3 in /anaconda/envs/azureml_py310_sdkv2/lib/python3.10/site-packages (from azureml-mlflow->-r xgboost_classification_mlflow.txt (line 3)) (2.8.2)\nRequirement already satisfied: cryptography in /anaconda/envs/azureml_py310_sdkv2/lib/python3.10/site-packages (from azureml-mlflow->-r xgboost_classification_mlflow.txt (line 3)) (38.0.3)\nRequirement already satisfied: azure-identity in /anaconda/envs/azureml_py310_sdkv2/lib/python3.10/site-packages (from azureml-mlflow->-r xgboost_classification_mlflow.txt (line 3)) (1.7.0)\nRequirement already satisfied: joblib>=1.1.1 in /anaconda/envs/azureml_py310_sdkv2/lib/python3.10/site-packages (from scikit-learn->-r xgboost_classification_mlflow.txt (line 4)) (1.2.0)\nRequirement already satisfied: threadpoolctl>=2.0.0 in /anaconda/envs/azureml_py310_sdkv2/lib/python3.10/site-packages (from scikit-learn->-r xgboost_classification_mlflow.txt (line 4)) (3.1.0)\nRequirement already satisfied: kiwisolver>=1.0.1 in /anaconda/envs/azureml_py310_sdkv2/lib/python3.10/site-packages (from matplotlib->-r xgboost_classification_mlflow.txt (line 7)) (1.4.4)\nRequirement already satisfied: pillow>=6.2.0 in /anaconda/envs/azureml_py310_sdkv2/lib/python3.10/site-packages (from matplotlib->-r xgboost_classification_mlflow.txt (line 7)) (9.3.0)\nRequirement already satisfied: pyparsing>=2.2.1 in /anaconda/envs/azureml_py310_sdkv2/lib/python3.10/site-packages (from matplotlib->-r xgboost_classification_mlflow.txt (line 7)) (3.0.9)\nRequirement already satisfied: fonttools>=4.22.0 in /anaconda/envs/azureml_py310_sdkv2/lib/python3.10/site-packages (from matplotlib->-r xgboost_classification_mlflow.txt (line 7)) (4.38.0)\nRequirement already satisfied: contourpy>=1.0.1 in /anaconda/envs/azureml_py310_sdkv2/lib/python3.10/site-packages (from matplotlib->-r xgboost_classification_mlflow.txt (line 7)) (1.0.6)\nRequirement already satisfied: cycler>=0.10 in /anaconda/envs/azureml_py310_sdkv2/lib/python3.10/site-packages (from matplotlib->-r xgboost_classification_mlflow.txt (line 7)) (0.11.0)\nRequirement already satisfied: Mako in /anaconda/envs/azureml_py310_sdkv2/lib/python3.10/site-packages (from alembic<2->mlflow->-r xgboost_classification_mlflow.txt (line 2)) (1.2.3)\nRequirement already satisfied: typing-extensions>=4.0.1 in /anaconda/envs/azureml_py310_sdkv2/lib/python3.10/site-packages (from azure-core!=1.22.0,<2.0.0,>=1.8.0->azureml-mlflow->-r xgboost_classification_mlflow.txt (line 3)) (4.4.0)\nRequirement already satisfied: six>=1.11.0 in /anaconda/envs/azureml_py310_sdkv2/lib/python3.10/site-packages (from azure-core!=1.22.0,<2.0.0,>=1.8.0->azureml-mlflow->-r xgboost_classification_mlflow.txt (line 3)) (1.16.0)\nRequirement already satisfied: cffi>=1.12 in /anaconda/envs/azureml_py310_sdkv2/lib/python3.10/site-packages (from cryptography->azureml-mlflow->-r xgboost_classification_mlflow.txt (line 3)) (1.15.1)\nRequirement already satisfied: pyjwt>=1.7.0 in /anaconda/envs/azureml_py310_sdkv2/lib/python3.10/site-packages (from databricks-cli<1,>=0.8.7->mlflow->-r xgboost_classification_mlflow.txt (line 2)) (2.6.0)\nRequirement already satisfied: tabulate>=0.7.7 in /anaconda/envs/azureml_py310_sdkv2/lib/python3.10/site-packages (from databricks-cli<1,>=0.8.7->mlflow->-r xgboost_classification_mlflow.txt (line 2)) (0.9.0)\nRequirement already satisfied: oauthlib>=3.1.0 in /anaconda/envs/azureml_py310_sdkv2/lib/python3.10/site-packages (from databricks-cli<1,>=0.8.7->mlflow->-r xgboost_classification_mlflow.txt (line 2)) (3.2.2)\nRequirement already satisfied: urllib3>=1.26.0 in /anaconda/envs/azureml_py310_sdkv2/lib/python3.10/site-packages (from docker<7,>=4.0.0->mlflow->-r xgboost_classification_mlflow.txt (line 2)) (1.26.12)\nRequirement already satisfied: websocket-client>=0.32.0 in /anaconda/envs/azureml_py310_sdkv2/lib/python3.10/site-packages (from docker<7,>=4.0.0->mlflow->-r xgboost_classification_mlflow.txt (line 2)) (1.4.2)\nRequirement already satisfied: itsdangerous>=2.0 in /anaconda/envs/azureml_py310_sdkv2/lib/python3.10/site-packages (from Flask<3->mlflow->-r xgboost_classification_mlflow.txt (line 2)) (2.1.2)\nRequirement already satisfied: Jinja2>=3.0 in /anaconda/envs/azureml_py310_sdkv2/lib/python3.10/site-packages (from Flask<3->mlflow->-r xgboost_classification_mlflow.txt (line 2)) (3.1.2)\nRequirement already satisfied: Werkzeug>=2.2.2 in /anaconda/envs/azureml_py310_sdkv2/lib/python3.10/site-packages (from Flask<3->mlflow->-r xgboost_classification_mlflow.txt (line 2)) (2.2.2)\nRequirement already satisfied: gitdb<5,>=4.0.1 in /anaconda/envs/azureml_py310_sdkv2/lib/python3.10/site-packages (from gitpython<4,>=2.1.0->mlflow->-r xgboost_classification_mlflow.txt (line 2)) (4.0.9)\nRequirement already satisfied: setuptools>=3.0 in /anaconda/envs/azureml_py310_sdkv2/lib/python3.10/site-packages (from gunicorn<21->mlflow->-r xgboost_classification_mlflow.txt (line 2)) (65.5.0)\nRequirement already satisfied: zipp>=0.5 in /anaconda/envs/azureml_py310_sdkv2/lib/python3.10/site-packages (from importlib-metadata!=4.7.0,<6,>=3.7.0->mlflow->-r xgboost_classification_mlflow.txt (line 2)) (3.10.0)\nRequirement already satisfied: certifi>=2017.4.17 in /anaconda/envs/azureml_py310_sdkv2/lib/python3.10/site-packages (from msrest>=0.6.18->azureml-mlflow->-r xgboost_classification_mlflow.txt (line 3)) (2022.6.15)\nRequirement already satisfied: isodate>=0.6.0 in /anaconda/envs/azureml_py310_sdkv2/lib/python3.10/site-packages (from msrest>=0.6.18->azureml-mlflow->-r xgboost_classification_mlflow.txt (line 3)) (0.6.1)\nRequirement already satisfied: requests-oauthlib>=0.5.0 in /anaconda/envs/azureml_py310_sdkv2/lib/python3.10/site-packages (from msrest>=0.6.18->azureml-mlflow->-r xgboost_classification_mlflow.txt (line 3)) (1.3.1)\nRequirement already satisfied: prometheus-client in /anaconda/envs/azureml_py310_sdkv2/lib/python3.10/site-packages (from prometheus-flask-exporter<1->mlflow->-r xgboost_classification_mlflow.txt (line 2)) (0.15.0)\nRequirement already satisfied: idna<4,>=2.5 in /anaconda/envs/azureml_py310_sdkv2/lib/python3.10/site-packages (from requests<3,>=2.17.3->mlflow->-r xgboost_classification_mlflow.txt (line 2)) (3.4)\nRequirement already satisfied: charset-normalizer<3,>=2 in /anaconda/envs/azureml_py310_sdkv2/lib/python3.10/site-packages (from requests<3,>=2.17.3->mlflow->-r xgboost_classification_mlflow.txt (line 2)) (2.1.1)\nRequirement already satisfied: greenlet!=0.4.17 in /anaconda/envs/azureml_py310_sdkv2/lib/python3.10/site-packages (from sqlalchemy<2,>=1.4.0->mlflow->-r xgboost_classification_mlflow.txt (line 2)) (2.0.1)\nRequirement already satisfied: msal-extensions~=0.3.0 in /anaconda/envs/azureml_py310_sdkv2/lib/python3.10/site-packages (from azure-identity->azureml-mlflow->-r xgboost_classification_mlflow.txt (line 3)) (0.3.1)\nRequirement already satisfied: msal<2.0.0,>=1.12.0 in /anaconda/envs/azureml_py310_sdkv2/lib/python3.10/site-packages (from azure-identity->azureml-mlflow->-r xgboost_classification_mlflow.txt (line 3)) (1.20.0)\nRequirement already satisfied: pycparser in /anaconda/envs/azureml_py310_sdkv2/lib/python3.10/site-packages (from cffi>=1.12->cryptography->azureml-mlflow->-r xgboost_classification_mlflow.txt (line 3)) (2.21)\nRequirement already satisfied: smmap<6,>=3.0.1 in /anaconda/envs/azureml_py310_sdkv2/lib/python3.10/site-packages (from gitdb<5,>=4.0.1->gitpython<4,>=2.1.0->mlflow->-r xgboost_classification_mlflow.txt (line 2)) (5.0.0)\nRequirement already satisfied: MarkupSafe>=2.0 in /anaconda/envs/azureml_py310_sdkv2/lib/python3.10/site-packages (from Jinja2>=3.0->Flask<3->mlflow->-r xgboost_classification_mlflow.txt (line 2)) (2.1.1)\nRequirement already satisfied: portalocker<3,>=1.0 in /anaconda/envs/azureml_py310_sdkv2/lib/python3.10/site-packages (from msal-extensions~=0.3.0->azure-identity->azureml-mlflow->-r xgboost_classification_mlflow.txt (line 3)) (2.6.0)\nNote: you may need to restart the kernel to use updated packages.\n"
        }
      ],
      "execution_count": 4,
      "metadata": {
        "gather": {
          "logged": 1671179335050
        }
      }
    },
    {
      "cell_type": "markdown",
      "source": [
        "## Configuring the experiment"
      ],
      "metadata": {}
    },
    {
      "cell_type": "markdown",
      "source": [
        "Let's get started. It's always a good idea to start by configuring the name of the experiment we are working with in MLflow. Experiments allows you to organize runs in a comprehensive way so you can compare different experiment's runs with different parameters and configuration. MLflow configures the default experiment named \"Default\" but you can change this name."
      ],
      "metadata": {}
    },
    {
      "cell_type": "code",
      "source": [
        "import mlflow\n",
        "\n",
        "mlflow.set_experiment(experiment_name=\"heart-condition-classifier\")"
      ],
      "outputs": [
        {
          "output_type": "execute_result",
          "execution_count": 5,
          "data": {
            "text/plain": "<Experiment: artifact_location='', creation_time=1671124151224, experiment_id='58bc0b28-87ee-4b5e-9e77-d974d23ff08a', last_update_time=None, lifecycle_stage='active', name='heart-condition-classifier', tags={}>"
          },
          "metadata": {}
        }
      ],
      "execution_count": 5,
      "metadata": {
        "gather": {
          "logged": 1671179343751
        }
      }
    },
    {
      "cell_type": "markdown",
      "source": [
        "## Exploring the data"
      ],
      "metadata": {
        "tags": []
      }
    },
    {
      "cell_type": "code",
      "source": [
        "import pandas as pd\n",
        "file_url = \"http://storage.googleapis.com/download.tensorflow.org/data/heart.csv\"\n",
        "df = pd.read_csv(file_url)\n",
        "df"
      ],
      "outputs": [
        {
          "output_type": "execute_result",
          "execution_count": 6,
          "data": {
            "text/plain": "     age  sex  cp  trestbps  chol  fbs  restecg  thalach  exang  oldpeak  \\\n0     63    1   1       145   233    1        2      150      0      2.3   \n1     67    1   4       160   286    0        2      108      1      1.5   \n2     67    1   4       120   229    0        2      129      1      2.6   \n3     37    1   3       130   250    0        0      187      0      3.5   \n4     41    0   2       130   204    0        2      172      0      1.4   \n..   ...  ...  ..       ...   ...  ...      ...      ...    ...      ...   \n298   52    1   1       118   186    0        2      190      0      0.0   \n299   43    0   4       132   341    1        2      136      1      3.0   \n300   65    1   4       135   254    0        2      127      0      2.8   \n301   48    1   4       130   256    1        2      150      1      0.0   \n302   63    0   4       150   407    0        2      154      0      4.0   \n\n     slope  ca        thal  target  \n0        3   0       fixed       0  \n1        2   3      normal       1  \n2        2   2  reversible       0  \n3        3   0      normal       0  \n4        1   0      normal       0  \n..     ...  ..         ...     ...  \n298      2   0       fixed       0  \n299      2   0  reversible       1  \n300      2   1  reversible       1  \n301      1   2  reversible       1  \n302      2   3  reversible       1  \n\n[303 rows x 14 columns]",
            "text/html": "<div>\n<style scoped>\n    .dataframe tbody tr th:only-of-type {\n        vertical-align: middle;\n    }\n\n    .dataframe tbody tr th {\n        vertical-align: top;\n    }\n\n    .dataframe thead th {\n        text-align: right;\n    }\n</style>\n<table border=\"1\" class=\"dataframe\">\n  <thead>\n    <tr style=\"text-align: right;\">\n      <th></th>\n      <th>age</th>\n      <th>sex</th>\n      <th>cp</th>\n      <th>trestbps</th>\n      <th>chol</th>\n      <th>fbs</th>\n      <th>restecg</th>\n      <th>thalach</th>\n      <th>exang</th>\n      <th>oldpeak</th>\n      <th>slope</th>\n      <th>ca</th>\n      <th>thal</th>\n      <th>target</th>\n    </tr>\n  </thead>\n  <tbody>\n    <tr>\n      <th>0</th>\n      <td>63</td>\n      <td>1</td>\n      <td>1</td>\n      <td>145</td>\n      <td>233</td>\n      <td>1</td>\n      <td>2</td>\n      <td>150</td>\n      <td>0</td>\n      <td>2.3</td>\n      <td>3</td>\n      <td>0</td>\n      <td>fixed</td>\n      <td>0</td>\n    </tr>\n    <tr>\n      <th>1</th>\n      <td>67</td>\n      <td>1</td>\n      <td>4</td>\n      <td>160</td>\n      <td>286</td>\n      <td>0</td>\n      <td>2</td>\n      <td>108</td>\n      <td>1</td>\n      <td>1.5</td>\n      <td>2</td>\n      <td>3</td>\n      <td>normal</td>\n      <td>1</td>\n    </tr>\n    <tr>\n      <th>2</th>\n      <td>67</td>\n      <td>1</td>\n      <td>4</td>\n      <td>120</td>\n      <td>229</td>\n      <td>0</td>\n      <td>2</td>\n      <td>129</td>\n      <td>1</td>\n      <td>2.6</td>\n      <td>2</td>\n      <td>2</td>\n      <td>reversible</td>\n      <td>0</td>\n    </tr>\n    <tr>\n      <th>3</th>\n      <td>37</td>\n      <td>1</td>\n      <td>3</td>\n      <td>130</td>\n      <td>250</td>\n      <td>0</td>\n      <td>0</td>\n      <td>187</td>\n      <td>0</td>\n      <td>3.5</td>\n      <td>3</td>\n      <td>0</td>\n      <td>normal</td>\n      <td>0</td>\n    </tr>\n    <tr>\n      <th>4</th>\n      <td>41</td>\n      <td>0</td>\n      <td>2</td>\n      <td>130</td>\n      <td>204</td>\n      <td>0</td>\n      <td>2</td>\n      <td>172</td>\n      <td>0</td>\n      <td>1.4</td>\n      <td>1</td>\n      <td>0</td>\n      <td>normal</td>\n      <td>0</td>\n    </tr>\n    <tr>\n      <th>...</th>\n      <td>...</td>\n      <td>...</td>\n      <td>...</td>\n      <td>...</td>\n      <td>...</td>\n      <td>...</td>\n      <td>...</td>\n      <td>...</td>\n      <td>...</td>\n      <td>...</td>\n      <td>...</td>\n      <td>...</td>\n      <td>...</td>\n      <td>...</td>\n    </tr>\n    <tr>\n      <th>298</th>\n      <td>52</td>\n      <td>1</td>\n      <td>1</td>\n      <td>118</td>\n      <td>186</td>\n      <td>0</td>\n      <td>2</td>\n      <td>190</td>\n      <td>0</td>\n      <td>0.0</td>\n      <td>2</td>\n      <td>0</td>\n      <td>fixed</td>\n      <td>0</td>\n    </tr>\n    <tr>\n      <th>299</th>\n      <td>43</td>\n      <td>0</td>\n      <td>4</td>\n      <td>132</td>\n      <td>341</td>\n      <td>1</td>\n      <td>2</td>\n      <td>136</td>\n      <td>1</td>\n      <td>3.0</td>\n      <td>2</td>\n      <td>0</td>\n      <td>reversible</td>\n      <td>1</td>\n    </tr>\n    <tr>\n      <th>300</th>\n      <td>65</td>\n      <td>1</td>\n      <td>4</td>\n      <td>135</td>\n      <td>254</td>\n      <td>0</td>\n      <td>2</td>\n      <td>127</td>\n      <td>0</td>\n      <td>2.8</td>\n      <td>2</td>\n      <td>1</td>\n      <td>reversible</td>\n      <td>1</td>\n    </tr>\n    <tr>\n      <th>301</th>\n      <td>48</td>\n      <td>1</td>\n      <td>4</td>\n      <td>130</td>\n      <td>256</td>\n      <td>1</td>\n      <td>2</td>\n      <td>150</td>\n      <td>1</td>\n      <td>0.0</td>\n      <td>1</td>\n      <td>2</td>\n      <td>reversible</td>\n      <td>1</td>\n    </tr>\n    <tr>\n      <th>302</th>\n      <td>63</td>\n      <td>0</td>\n      <td>4</td>\n      <td>150</td>\n      <td>407</td>\n      <td>0</td>\n      <td>2</td>\n      <td>154</td>\n      <td>0</td>\n      <td>4.0</td>\n      <td>2</td>\n      <td>3</td>\n      <td>reversible</td>\n      <td>1</td>\n    </tr>\n  </tbody>\n</table>\n<p>303 rows × 14 columns</p>\n</div>"
          },
          "metadata": {}
        }
      ],
      "execution_count": 6,
      "metadata": {
        "gather": {
          "logged": 1671179349979
        }
      }
    },
    {
      "cell_type": "markdown",
      "source": [
        "As we can see, some of the variables are categorical. To make it simpler for our model to handle these values, let's use their encoded values:"
      ],
      "metadata": {}
    },
    {
      "cell_type": "code",
      "source": [
        "df[\"thal\"] = df[\"thal\"].astype(\"category\").cat.codes"
      ],
      "outputs": [],
      "execution_count": 7,
      "metadata": {
        "gather": {
          "logged": 1671179357605
        }
      }
    },
    {
      "cell_type": "markdown",
      "source": [
        "The encoded values looks then as follows:"
      ],
      "metadata": {}
    },
    {
      "cell_type": "code",
      "source": [
        "df[\"thal\"].unique()"
      ],
      "outputs": [
        {
          "output_type": "execute_result",
          "execution_count": 8,
          "data": {
            "text/plain": "array([2, 3, 4, 0, 1], dtype=int8)"
          },
          "metadata": {}
        }
      ],
      "execution_count": 8,
      "metadata": {
        "gather": {
          "logged": 1671179360819
        }
      }
    },
    {
      "cell_type": "markdown",
      "source": [
        "Let's split our dataset in train and test, so we can assess the performance of the model without overfitting the dataset."
      ],
      "metadata": {}
    },
    {
      "cell_type": "code",
      "source": [
        "from sklearn.model_selection import train_test_split\n",
        "\n",
        "X_train, X_test, y_train, y_test = train_test_split(\n",
        "    df.drop(\"target\", axis=1), df[\"target\"], test_size=0.4\n",
        ")"
      ],
      "outputs": [],
      "execution_count": 9,
      "metadata": {
        "gather": {
          "logged": 1671179371516
        }
      }
    },
    {
      "cell_type": "markdown",
      "source": [
        "## Training a model"
      ],
      "metadata": {}
    },
    {
      "cell_type": "markdown",
      "source": [
        "We are going to use autologging capabilities in MLflow to track parameters and metrics:"
      ],
      "metadata": {}
    },
    {
      "cell_type": "code",
      "source": [
        "mlflow.xgboost.autolog()"
      ],
      "outputs": [
        {
          "output_type": "stream",
          "name": "stderr",
          "text": "2022/12/16 08:29:39 WARNING mlflow.utils.autologging_utils: You are using an unsupported version of xgboost. If you encounter errors during autologging, try upgrading / downgrading xgboost to a supported version, or try upgrading MLflow.\n"
        }
      ],
      "execution_count": 10,
      "metadata": {
        "gather": {
          "logged": 1671179379353
        }
      }
    },
    {
      "cell_type": "markdown",
      "source": [
        "Let's create a simple classifier and train it:"
      ],
      "metadata": {}
    },
    {
      "cell_type": "code",
      "source": [
        "from xgboost import XGBClassifier\n",
        "\n",
        "model = XGBClassifier(use_label_encoder=False, eval_metric=\"logloss\")"
      ],
      "outputs": [
        {
          "output_type": "stream",
          "name": "stderr",
          "text": "/anaconda/envs/azureml_py310_sdkv2/lib/python3.10/site-packages/xgboost/sklearn.py:1421: UserWarning: `use_label_encoder` is deprecated in 1.7.0.\n  warnings.warn(\"`use_label_encoder` is deprecated in 1.7.0.\")\n"
        }
      ],
      "execution_count": 11,
      "metadata": {
        "gather": {
          "logged": 1671179393037
        }
      }
    },
    {
      "cell_type": "markdown",
      "source": [
        "As soon as the `train` method is executed, MLflow will stat a run in Azure ML to start tracking the experiment's run. However, it is always a good idea to start the run manually so you have the run ID at hand quickly. This is not required though.\n",
        "\n",
        "> Important: When running training routines in Azure ML as jobs, you don't need to start or end the run in your training code as it is automatically done for you by Azure ML."
      ],
      "metadata": {}
    },
    {
      "cell_type": "code",
      "source": [
        "run = mlflow.start_run()"
      ],
      "outputs": [],
      "execution_count": 12,
      "metadata": {
        "gather": {
          "logged": 1671179451425
        }
      }
    },
    {
      "cell_type": "code",
      "source": [
        "model.fit(X_train, y_train, eval_set=[(X_test, y_test)], verbose=False)"
      ],
      "outputs": [
        {
          "output_type": "stream",
          "name": "stderr",
          "text": "2022/12/16 08:31:59 WARNING mlflow.utils.autologging_utils: MLflow autologging encountered a warning: \"/anaconda/envs/azureml_py310_sdkv2/lib/python3.10/site-packages/mlflow/models/signature.py:129: UserWarning: Hint: Inferred schema contains integer column(s). Integer columns in Python cannot represent missing values. If your input data contains missing values at inference time, it will be encoded as floats and will cause a schema enforcement error. The best way to avoid this problem is to infer the model schema based on a realistic data sample (training dataset) that includes missing values. Alternatively, you can declare integer columns as doubles (float64) whenever these columns may have missing values. See `Handling Integers With Missing Values <https://www.mlflow.org/docs/latest/models.html#handling-integers-with-missing-values>`_ for more details.\"\n2022/12/16 08:32:02 WARNING mlflow.utils.autologging_utils: MLflow autologging encountered a warning: \"/anaconda/envs/azureml_py310_sdkv2/lib/python3.10/site-packages/_distutils_hack/__init__.py:33: UserWarning: Setuptools is replacing distutils.\"\n"
        },
        {
          "output_type": "execute_result",
          "execution_count": 13,
          "data": {
            "text/plain": "XGBClassifier(base_score=0.5, booster='gbtree', callbacks=None,\n              colsample_bylevel=1, colsample_bynode=1, colsample_bytree=1,\n              early_stopping_rounds=None, enable_categorical=False,\n              eval_metric='logloss', feature_types=None, gamma=0, gpu_id=-1,\n              grow_policy='depthwise', importance_type=None,\n              interaction_constraints='', learning_rate=0.300000012,\n              max_bin=256, max_cat_threshold=64, max_cat_to_onehot=4,\n              max_delta_step=0, max_depth=6, max_leaves=0, min_child_weight=1,\n              missing=nan, monotone_constraints='()', n_estimators=100,\n              n_jobs=0, num_parallel_tree=1, predictor='auto', random_state=0, ...)",
            "text/html": "<style>#sk-container-id-1 {color: black;background-color: white;}#sk-container-id-1 pre{padding: 0;}#sk-container-id-1 div.sk-toggleable {background-color: white;}#sk-container-id-1 label.sk-toggleable__label {cursor: pointer;display: block;width: 100%;margin-bottom: 0;padding: 0.3em;box-sizing: border-box;text-align: center;}#sk-container-id-1 label.sk-toggleable__label-arrow:before {content: \"▸\";float: left;margin-right: 0.25em;color: #696969;}#sk-container-id-1 label.sk-toggleable__label-arrow:hover:before {color: black;}#sk-container-id-1 div.sk-estimator:hover label.sk-toggleable__label-arrow:before {color: black;}#sk-container-id-1 div.sk-toggleable__content {max-height: 0;max-width: 0;overflow: hidden;text-align: left;background-color: #f0f8ff;}#sk-container-id-1 div.sk-toggleable__content pre {margin: 0.2em;color: black;border-radius: 0.25em;background-color: #f0f8ff;}#sk-container-id-1 input.sk-toggleable__control:checked~div.sk-toggleable__content {max-height: 200px;max-width: 100%;overflow: auto;}#sk-container-id-1 input.sk-toggleable__control:checked~label.sk-toggleable__label-arrow:before {content: \"▾\";}#sk-container-id-1 div.sk-estimator input.sk-toggleable__control:checked~label.sk-toggleable__label {background-color: #d4ebff;}#sk-container-id-1 div.sk-label input.sk-toggleable__control:checked~label.sk-toggleable__label {background-color: #d4ebff;}#sk-container-id-1 input.sk-hidden--visually {border: 0;clip: rect(1px 1px 1px 1px);clip: rect(1px, 1px, 1px, 1px);height: 1px;margin: -1px;overflow: hidden;padding: 0;position: absolute;width: 1px;}#sk-container-id-1 div.sk-estimator {font-family: monospace;background-color: #f0f8ff;border: 1px dotted black;border-radius: 0.25em;box-sizing: border-box;margin-bottom: 0.5em;}#sk-container-id-1 div.sk-estimator:hover {background-color: #d4ebff;}#sk-container-id-1 div.sk-parallel-item::after {content: \"\";width: 100%;border-bottom: 1px solid gray;flex-grow: 1;}#sk-container-id-1 div.sk-label:hover label.sk-toggleable__label {background-color: #d4ebff;}#sk-container-id-1 div.sk-serial::before {content: \"\";position: absolute;border-left: 1px solid gray;box-sizing: border-box;top: 0;bottom: 0;left: 50%;z-index: 0;}#sk-container-id-1 div.sk-serial {display: flex;flex-direction: column;align-items: center;background-color: white;padding-right: 0.2em;padding-left: 0.2em;position: relative;}#sk-container-id-1 div.sk-item {position: relative;z-index: 1;}#sk-container-id-1 div.sk-parallel {display: flex;align-items: stretch;justify-content: center;background-color: white;position: relative;}#sk-container-id-1 div.sk-item::before, #sk-container-id-1 div.sk-parallel-item::before {content: \"\";position: absolute;border-left: 1px solid gray;box-sizing: border-box;top: 0;bottom: 0;left: 50%;z-index: -1;}#sk-container-id-1 div.sk-parallel-item {display: flex;flex-direction: column;z-index: 1;position: relative;background-color: white;}#sk-container-id-1 div.sk-parallel-item:first-child::after {align-self: flex-end;width: 50%;}#sk-container-id-1 div.sk-parallel-item:last-child::after {align-self: flex-start;width: 50%;}#sk-container-id-1 div.sk-parallel-item:only-child::after {width: 0;}#sk-container-id-1 div.sk-dashed-wrapped {border: 1px dashed gray;margin: 0 0.4em 0.5em 0.4em;box-sizing: border-box;padding-bottom: 0.4em;background-color: white;}#sk-container-id-1 div.sk-label label {font-family: monospace;font-weight: bold;display: inline-block;line-height: 1.2em;}#sk-container-id-1 div.sk-label-container {text-align: center;}#sk-container-id-1 div.sk-container {/* jupyter's `normalize.less` sets `[hidden] { display: none; }` but bootstrap.min.css set `[hidden] { display: none !important; }` so we also need the `!important` here to be able to override the default hidden behavior on the sphinx rendered scikit-learn.org. See: https://github.com/scikit-learn/scikit-learn/issues/21755 */display: inline-block !important;position: relative;}#sk-container-id-1 div.sk-text-repr-fallback {display: none;}</style><div id=\"sk-container-id-1\" class=\"sk-top-container\"><div class=\"sk-text-repr-fallback\"><pre>XGBClassifier(base_score=0.5, booster=&#x27;gbtree&#x27;, callbacks=None,\n              colsample_bylevel=1, colsample_bynode=1, colsample_bytree=1,\n              early_stopping_rounds=None, enable_categorical=False,\n              eval_metric=&#x27;logloss&#x27;, feature_types=None, gamma=0, gpu_id=-1,\n              grow_policy=&#x27;depthwise&#x27;, importance_type=None,\n              interaction_constraints=&#x27;&#x27;, learning_rate=0.300000012,\n              max_bin=256, max_cat_threshold=64, max_cat_to_onehot=4,\n              max_delta_step=0, max_depth=6, max_leaves=0, min_child_weight=1,\n              missing=nan, monotone_constraints=&#x27;()&#x27;, n_estimators=100,\n              n_jobs=0, num_parallel_tree=1, predictor=&#x27;auto&#x27;, random_state=0, ...)</pre><b>In a Jupyter environment, please rerun this cell to show the HTML representation or trust the notebook. <br />On GitHub, the HTML representation is unable to render, please try loading this page with nbviewer.org.</b></div><div class=\"sk-container\" hidden><div class=\"sk-item\"><div class=\"sk-estimator sk-toggleable\"><input class=\"sk-toggleable__control sk-hidden--visually\" id=\"sk-estimator-id-1\" type=\"checkbox\" checked><label for=\"sk-estimator-id-1\" class=\"sk-toggleable__label sk-toggleable__label-arrow\">XGBClassifier</label><div class=\"sk-toggleable__content\"><pre>XGBClassifier(base_score=0.5, booster=&#x27;gbtree&#x27;, callbacks=None,\n              colsample_bylevel=1, colsample_bynode=1, colsample_bytree=1,\n              early_stopping_rounds=None, enable_categorical=False,\n              eval_metric=&#x27;logloss&#x27;, feature_types=None, gamma=0, gpu_id=-1,\n              grow_policy=&#x27;depthwise&#x27;, importance_type=None,\n              interaction_constraints=&#x27;&#x27;, learning_rate=0.300000012,\n              max_bin=256, max_cat_threshold=64, max_cat_to_onehot=4,\n              max_delta_step=0, max_depth=6, max_leaves=0, min_child_weight=1,\n              missing=nan, monotone_constraints=&#x27;()&#x27;, n_estimators=100,\n              n_jobs=0, num_parallel_tree=1, predictor=&#x27;auto&#x27;, random_state=0, ...)</pre></div></div></div></div></div>"
          },
          "metadata": {}
        }
      ],
      "execution_count": 13,
      "metadata": {
        "gather": {
          "logged": 1671179525182
        }
      }
    },
    {
      "cell_type": "markdown",
      "source": [
        "## Logging extra metrics\n",
        "\n",
        "Autolog capabilities in XGBoost will log metrics like validation loss, however, it won't log any specific metric in a classification problem. In this case, we are going to pay closer attention to our ability to detect heart condition while avoiding a type II error as much as possible. To calculate the metric, we are going to use our test dataset:"
      ],
      "metadata": {}
    },
    {
      "cell_type": "code",
      "source": [
        "y_pred = model.predict(X_test)"
      ],
      "outputs": [],
      "execution_count": 17,
      "metadata": {
        "gather": {
          "logged": 1671189492460
        }
      }
    },
    {
      "cell_type": "code",
      "source": [
        "from sklearn.metrics import accuracy_score, recall_score, fbeta_score, confusion_matrix\n",
        "\n",
        "accuracy = accuracy_score(y_test, y_pred)\n",
        "recall = recall_score(y_test, y_pred)\n",
        "cm = confusion_matrix(y_test, y_pred)"
      ],
      "outputs": [
        {
          "output_type": "stream",
          "name": "stderr",
          "text": "2022/12/16 08:32:45 WARNING mlflow.utils.autologging_utils: Encountered unexpected error during xgboost autologging: UserError: Resource Conflict: ArtifactId ExperimentRun/dcid.a3341e03-f028-4598-8242-fc5611e89097/metric_info.json already exists.\n2022/12/16 08:32:45 WARNING mlflow.utils.autologging_utils: Encountered unexpected error during xgboost autologging: UserError: Resource Conflict: ArtifactId ExperimentRun/dcid.a3341e03-f028-4598-8242-fc5611e89097/metric_info.json already exists.\n"
        }
      ],
      "execution_count": 16,
      "metadata": {
        "gather": {
          "logged": 1671179566037
        }
      }
    },
    {
      "cell_type": "code",
      "source": [
        "print(\"Accuracy: %.2f%%\" % (accuracy * 100.0))\n",
        "print(\"Recall: %.2f%%\" % (recall * 100.0))"
      ],
      "outputs": [
        {
          "output_type": "stream",
          "name": "stdout",
          "text": "Accuracy: 81.15%\nRecall: 69.23%\n"
        }
      ],
      "execution_count": 18,
      "metadata": {
        "gather": {
          "logged": 1671189496030
        }
      }
    },
    {
      "cell_type": "markdown",
      "source": [
        "## Exploring the expriment with MLFlow\n",
        "\n",
        "Let's first end the experiment run so we can review it:"
      ],
      "metadata": {}
    },
    {
      "cell_type": "code",
      "source": [
        "mlflow.end_run()"
      ],
      "outputs": [],
      "execution_count": 19,
      "metadata": {
        "gather": {
          "logged": 1671189619336
        }
      }
    },
    {
      "cell_type": "markdown",
      "source": [
        "To see what's has been logged, we can query the run again:"
      ],
      "metadata": {}
    },
    {
      "cell_type": "code",
      "source": [
        "run = mlflow.get_run(run.info.run_id)"
      ],
      "outputs": [],
      "execution_count": 20,
      "metadata": {
        "gather": {
          "logged": 1671189619709
        }
      }
    },
    {
      "cell_type": "markdown",
      "source": [
        "Let's explore the parameters that got logged:"
      ],
      "metadata": {}
    },
    {
      "cell_type": "code",
      "source": [
        "pd.DataFrame(data=[run.data.params], index=[\"Value\"]).T"
      ],
      "outputs": [
        {
          "output_type": "execute_result",
          "execution_count": 21,
          "data": {
            "text/plain": "                                   Value\nobjective                binary:logistic\nbase_score                          None\nbooster                             None\ncolsample_bylevel                   None\ncolsample_bynode                    None\ncolsample_bytree                    None\neval_metric                      logloss\ngamma                               None\ngpu_id                              None\ngrow_policy                         None\ninteraction_constraints             None\nlearning_rate                       None\nmax_bin                             None\nmax_cat_threshold                   None\nmax_cat_to_onehot                   None\nmax_delta_step                      None\nmax_depth                           None\nmax_leaves                          None\nmin_child_weight                    None\nmonotone_constraints                None\nn_jobs                              None\nnum_parallel_tree                   None\npredictor                           None\nrandom_state                        None\nreg_alpha                           None\nreg_lambda                          None\nsampling_method                     None\nscale_pos_weight                    None\nsubsample                           None\ntree_method                         None\nvalidate_parameters                 None\nverbosity                           None\nnum_boost_round                      100\nearly_stopping_rounds               None\ncustom_metric                       None\nverbose_eval                       False\nmaximize                            None",
            "text/html": "<div>\n<style scoped>\n    .dataframe tbody tr th:only-of-type {\n        vertical-align: middle;\n    }\n\n    .dataframe tbody tr th {\n        vertical-align: top;\n    }\n\n    .dataframe thead th {\n        text-align: right;\n    }\n</style>\n<table border=\"1\" class=\"dataframe\">\n  <thead>\n    <tr style=\"text-align: right;\">\n      <th></th>\n      <th>Value</th>\n    </tr>\n  </thead>\n  <tbody>\n    <tr>\n      <th>objective</th>\n      <td>binary:logistic</td>\n    </tr>\n    <tr>\n      <th>base_score</th>\n      <td>None</td>\n    </tr>\n    <tr>\n      <th>booster</th>\n      <td>None</td>\n    </tr>\n    <tr>\n      <th>colsample_bylevel</th>\n      <td>None</td>\n    </tr>\n    <tr>\n      <th>colsample_bynode</th>\n      <td>None</td>\n    </tr>\n    <tr>\n      <th>colsample_bytree</th>\n      <td>None</td>\n    </tr>\n    <tr>\n      <th>eval_metric</th>\n      <td>logloss</td>\n    </tr>\n    <tr>\n      <th>gamma</th>\n      <td>None</td>\n    </tr>\n    <tr>\n      <th>gpu_id</th>\n      <td>None</td>\n    </tr>\n    <tr>\n      <th>grow_policy</th>\n      <td>None</td>\n    </tr>\n    <tr>\n      <th>interaction_constraints</th>\n      <td>None</td>\n    </tr>\n    <tr>\n      <th>learning_rate</th>\n      <td>None</td>\n    </tr>\n    <tr>\n      <th>max_bin</th>\n      <td>None</td>\n    </tr>\n    <tr>\n      <th>max_cat_threshold</th>\n      <td>None</td>\n    </tr>\n    <tr>\n      <th>max_cat_to_onehot</th>\n      <td>None</td>\n    </tr>\n    <tr>\n      <th>max_delta_step</th>\n      <td>None</td>\n    </tr>\n    <tr>\n      <th>max_depth</th>\n      <td>None</td>\n    </tr>\n    <tr>\n      <th>max_leaves</th>\n      <td>None</td>\n    </tr>\n    <tr>\n      <th>min_child_weight</th>\n      <td>None</td>\n    </tr>\n    <tr>\n      <th>monotone_constraints</th>\n      <td>None</td>\n    </tr>\n    <tr>\n      <th>n_jobs</th>\n      <td>None</td>\n    </tr>\n    <tr>\n      <th>num_parallel_tree</th>\n      <td>None</td>\n    </tr>\n    <tr>\n      <th>predictor</th>\n      <td>None</td>\n    </tr>\n    <tr>\n      <th>random_state</th>\n      <td>None</td>\n    </tr>\n    <tr>\n      <th>reg_alpha</th>\n      <td>None</td>\n    </tr>\n    <tr>\n      <th>reg_lambda</th>\n      <td>None</td>\n    </tr>\n    <tr>\n      <th>sampling_method</th>\n      <td>None</td>\n    </tr>\n    <tr>\n      <th>scale_pos_weight</th>\n      <td>None</td>\n    </tr>\n    <tr>\n      <th>subsample</th>\n      <td>None</td>\n    </tr>\n    <tr>\n      <th>tree_method</th>\n      <td>None</td>\n    </tr>\n    <tr>\n      <th>validate_parameters</th>\n      <td>None</td>\n    </tr>\n    <tr>\n      <th>verbosity</th>\n      <td>None</td>\n    </tr>\n    <tr>\n      <th>num_boost_round</th>\n      <td>100</td>\n    </tr>\n    <tr>\n      <th>early_stopping_rounds</th>\n      <td>None</td>\n    </tr>\n    <tr>\n      <th>custom_metric</th>\n      <td>None</td>\n    </tr>\n    <tr>\n      <th>verbose_eval</th>\n      <td>False</td>\n    </tr>\n    <tr>\n      <th>maximize</th>\n      <td>None</td>\n    </tr>\n  </tbody>\n</table>\n</div>"
          },
          "metadata": {}
        }
      ],
      "execution_count": 21,
      "metadata": {
        "gather": {
          "logged": 1671189620048
        }
      }
    },
    {
      "cell_type": "markdown",
      "source": [
        "Let's explore the metrics values:"
      ],
      "metadata": {}
    },
    {
      "cell_type": "code",
      "source": [
        "pd.DataFrame(data=[run.data.metrics], index=[\"Value\"]).T"
      ],
      "outputs": [
        {
          "output_type": "execute_result",
          "execution_count": 22,
          "data": {
            "text/plain": "                            Value\nvalidation_0-logloss     0.615653\naccuracy_score_X_test    0.811475\nrecall_score_X_test      0.692308\naccuracy_score-2_X_test  0.811475\nrecall_score-2_X_test    0.692308",
            "text/html": "<div>\n<style scoped>\n    .dataframe tbody tr th:only-of-type {\n        vertical-align: middle;\n    }\n\n    .dataframe tbody tr th {\n        vertical-align: top;\n    }\n\n    .dataframe thead th {\n        text-align: right;\n    }\n</style>\n<table border=\"1\" class=\"dataframe\">\n  <thead>\n    <tr style=\"text-align: right;\">\n      <th></th>\n      <th>Value</th>\n    </tr>\n  </thead>\n  <tbody>\n    <tr>\n      <th>validation_0-logloss</th>\n      <td>0.615653</td>\n    </tr>\n    <tr>\n      <th>accuracy_score_X_test</th>\n      <td>0.811475</td>\n    </tr>\n    <tr>\n      <th>recall_score_X_test</th>\n      <td>0.692308</td>\n    </tr>\n    <tr>\n      <th>accuracy_score-2_X_test</th>\n      <td>0.811475</td>\n    </tr>\n    <tr>\n      <th>recall_score-2_X_test</th>\n      <td>0.692308</td>\n    </tr>\n  </tbody>\n</table>\n</div>"
          },
          "metadata": {}
        }
      ],
      "execution_count": 22,
      "metadata": {
        "gather": {
          "logged": 1671189620372
        }
      }
    },
    {
      "cell_type": "markdown",
      "source": [
        ">Pay attention how metrics calculated with Scikit-Learn where automatically tracked for us. None of them were manually added to the run. Also, MLflow uses naming conventions including the variable's names to help undestand what was logged. `X_test` was added to the name of the metric meaning that they correspond to the metric in the testing split of the dataset."
      ],
      "metadata": {}
    },
    {
      "cell_type": "markdown",
      "source": [
        "Let's explore artifacts that got logged in the run. This requires to use the MLflow client:"
      ],
      "metadata": {}
    },
    {
      "cell_type": "code",
      "source": [
        "client = mlflow.tracking.MlflowClient()"
      ],
      "outputs": [],
      "execution_count": 23,
      "metadata": {
        "gather": {
          "logged": 1671189620644
        }
      }
    },
    {
      "cell_type": "code",
      "source": [
        "client.list_artifacts(run_id=run.info.run_id)"
      ],
      "outputs": [
        {
          "output_type": "execute_result",
          "execution_count": 24,
          "data": {
            "text/plain": "[<FileInfo: file_size=-1, is_dir=False, path='feature_importance_weight.json'>,\n <FileInfo: file_size=-1, is_dir=False, path='feature_importance_weight.png'>,\n <FileInfo: file_size=-1, is_dir=False, path='metric_info.json'>,\n <FileInfo: file_size=-1, is_dir=True, path='model'>]"
          },
          "metadata": {}
        }
      ],
      "execution_count": 24,
      "metadata": {
        "gather": {
          "logged": 1671189954474
        }
      }
    },
    {
      "cell_type": "markdown",
      "source": [
        "As you can see in this example, three artifacts are availble in the run:\n",
        "\n",
        "* `feature_importance_weight.json` -> the feature importance of the model we created.\n",
        "* `feature_importance_weight.png` -> a plot of the feature importance mentioned above, stored as an image.\n",
        "* `metric_info.json` -> contains a json representation of all the metrics captured by the XGBoost.\n",
        "* `model`, the path where the model is stored. Note that this artifact is a directory.\n",
        "\n",
        "You can download any artifact using the method `download_artifact`"
      ],
      "metadata": {}
    },
    {
      "cell_type": "code",
      "source": [
        "file_path = client.download_artifacts(\n",
        "    run.info.run_id, path=\"feature_importance_weight.png\"\n",
        ")"
      ],
      "outputs": [],
      "execution_count": 25,
      "metadata": {
        "gather": {
          "logged": 1671189954826
        }
      }
    },
    {
      "cell_type": "markdown",
      "source": [
        "Since the artifact is an image, we can display it in the following way:"
      ],
      "metadata": {}
    },
    {
      "cell_type": "code",
      "source": [
        "import matplotlib.pyplot as plt\n",
        "import matplotlib.image as img\n",
        "\n",
        "image = img.imread(file_path)\n",
        "plt.imshow(image)\n",
        "plt.show()"
      ],
      "outputs": [
        {
          "output_type": "display_data",
          "data": {
            "text/plain": "<Figure size 432x288 with 1 Axes>",
            "image/png": "[encoded data removed]"
          },
          "metadata": {
            "needs_background": "light"
          }
        }
      ],
      "execution_count": 26,
      "metadata": {
        "gather": {
          "logged": 1671189955158
        }
      }
    },
    {
      "cell_type": "markdown",
      "source": [
        "## Loading the model back\n",
        "\n",
        "`autolog` has also logged the model for us, let's try to get it back"
      ],
      "metadata": {}
    },
    {
      "cell_type": "code",
      "source": [
        "classifier = mlflow.xgboost.load_model(f\"runs:/{run.info.run_id}/model\")"
      ],
      "outputs": [],
      "execution_count": 27,
      "metadata": {
        "gather": {
          "logged": 1671189955611
        }
      }
    },
    {
      "cell_type": "markdown",
      "source": [
        "See that the type returned by this method is an XGBoost model's classifier"
      ],
      "metadata": {}
    },
    {
      "cell_type": "code",
      "source": [
        "type(classifier)"
      ],
      "outputs": [
        {
          "output_type": "execute_result",
          "execution_count": 28,
          "data": {
            "text/plain": "xgboost.sklearn.XGBClassifier"
          },
          "metadata": {}
        }
      ],
      "execution_count": 28,
      "metadata": {
        "gather": {
          "logged": 1671189955916
        }
      }
    },
    {
      "cell_type": "markdown",
      "source": [
        "You can get prediction back from the model"
      ],
      "metadata": {}
    },
    {
      "cell_type": "code",
      "source": [
        "classifier.predict(X_test)"
      ],
      "outputs": [
        {
          "output_type": "execute_result",
          "execution_count": 29,
          "data": {
            "text/plain": "array([0, 0, 0, 0, 1, 0, 0, 0, 0, 1, 0, 0, 0, 0, 0, 1, 0, 1, 1, 0, 1, 0,\n       0, 0, 1, 1, 0, 0, 0, 0, 0, 1, 0, 0, 0, 0, 0, 0, 1, 1, 0, 0, 0, 0,\n       1, 1, 1, 0, 0, 0, 0, 1, 0, 1, 0, 0, 1, 1, 0, 1, 0, 0, 1, 0, 0, 0,\n       1, 0, 0, 0, 0, 0, 0, 0, 0, 0, 1, 0, 0, 1, 0, 0, 0, 0, 1, 1, 0, 1,\n       1, 0, 0, 1, 0, 0, 1, 0, 0, 0, 0, 0, 1, 0, 0, 1, 0, 0, 0, 1, 0, 0,\n       0, 0, 0, 1, 1, 1, 1, 1, 0, 1, 0, 0])"
          },
          "metadata": {}
        }
      ],
      "execution_count": 29,
      "metadata": {
        "gather": {
          "logged": 1671189956217
        }
      }
    },
    {
      "cell_type": "markdown",
      "source": [
        "## Logging models with preprocessing\n",
        "\n",
        "As can be seen, MLflow automatically logs models for you, but some times you need to log a different model, specially when you are doing preprocessing. In this example we did some categorical encoding, so our model right now expects the values of the column `thal` to be integers, not strings.\n",
        "\n",
        "To make that requirement go away, we can create a Pipeline object with Scikit-Learn and log that model instead of the one automatically logged for us. Let's see how:"
      ],
      "metadata": {}
    },
    {
      "cell_type": "code",
      "source": [
        "# Reload the dataset\n",
        "df = pd.read_csv(file_url)"
      ],
      "outputs": [],
      "execution_count": 30,
      "metadata": {
        "gather": {
          "logged": 1671189956517
        }
      }
    },
    {
      "cell_type": "code",
      "source": [
        "from sklearn.model_selection import train_test_split\n",
        "\n",
        "X_train, X_test, y_train, y_test = train_test_split(\n",
        "    df.drop(\"target\", axis=1), df[\"target\"], test_size=0.3\n",
        ")"
      ],
      "outputs": [],
      "execution_count": 31,
      "metadata": {
        "gather": {
          "logged": 1671189956799
        }
      }
    },
    {
      "cell_type": "markdown",
      "source": [
        "### Using an encoder"
      ],
      "metadata": {}
    },
    {
      "cell_type": "markdown",
      "source": [
        "First let's use a `OrdinalEncoder` instead of the categorical types"
      ],
      "metadata": {}
    },
    {
      "cell_type": "code",
      "source": [
        "import numpy as np\n",
        "from sklearn.preprocessing import OrdinalEncoder"
      ],
      "outputs": [],
      "execution_count": 32,
      "metadata": {
        "gather": {
          "logged": 1671189957086
        }
      }
    },
    {
      "cell_type": "markdown",
      "source": [
        "We only need to transform the column `thal`. A convenient way to do this is by applying a `ColumnTransformer` to that column, the remaining columns will be sent directly to the model:"
      ],
      "metadata": {}
    },
    {
      "cell_type": "code",
      "source": [
        "from sklearn.compose import ColumnTransformer\n",
        "from xgboost import XGBClassifier\n",
        "\n",
        "encoder = ColumnTransformer(\n",
        "    [\n",
        "        (\n",
        "            \"cat_encoding\",\n",
        "            OrdinalEncoder(\n",
        "                categories=\"auto\",\n",
        "                handle_unknown=\"use_encoded_value\",\n",
        "                unknown_value=np.nan,\n",
        "            ),\n",
        "            [\"thal\"],\n",
        "        )\n",
        "    ],\n",
        "    remainder=\"passthrough\",\n",
        "    verbose_feature_names_out=False,\n",
        ")\n",
        "\n",
        "model = XGBClassifier(use_label_encoder=False, eval_metric=\"logloss\")"
      ],
      "outputs": [
        {
          "output_type": "stream",
          "name": "stderr",
          "text": "/anaconda/envs/azureml_py310_sdkv2/lib/python3.10/site-packages/xgboost/sklearn.py:1421: UserWarning: `use_label_encoder` is deprecated in 1.7.0.\n  warnings.warn(\"`use_label_encoder` is deprecated in 1.7.0.\")\n"
        }
      ],
      "execution_count": 33,
      "metadata": {
        "gather": {
          "logged": 1671189957368
        }
      }
    },
    {
      "cell_type": "code",
      "source": [
        "from sklearn.pipeline import Pipeline\n",
        "from sklearn.compose import ColumnTransformer"
      ],
      "outputs": [],
      "execution_count": 34,
      "metadata": {
        "gather": {
          "logged": 1671126648728
        }
      }
    },
    {
      "cell_type": "code",
      "source": [
        "pipeline = Pipeline(steps=[(\"encoding\", encoder), (\"model\", model)])"
      ],
      "outputs": [
        {
          "output_type": "error",
          "ename": "NameError",
          "evalue": "name 'Pipeline' is not defined",
          "traceback": [
            "\u001b[0;31m---------------------------------------------------------------------------\u001b[0m",
            "\u001b[0;31mNameError\u001b[0m                                 Traceback (most recent call last)",
            "Input \u001b[0;32mIn [34]\u001b[0m, in \u001b[0;36m<cell line: 1>\u001b[0;34m()\u001b[0m\n\u001b[0;32m----> 1\u001b[0m pipeline \u001b[38;5;241m=\u001b[39m \u001b[43mPipeline\u001b[49m(steps\u001b[38;5;241m=\u001b[39m[(\u001b[38;5;124m\"\u001b[39m\u001b[38;5;124mencoding\u001b[39m\u001b[38;5;124m\"\u001b[39m, encoder), (\u001b[38;5;124m\"\u001b[39m\u001b[38;5;124mmodel\u001b[39m\u001b[38;5;124m\"\u001b[39m, model)])\n",
            "\u001b[0;31mNameError\u001b[0m: name 'Pipeline' is not defined"
          ]
        }
      ],
      "execution_count": 34,
      "metadata": {
        "gather": {
          "logged": 1671189957611
        }
      }
    },
    {
      "cell_type": "code",
      "source": [
        "pipeline"
      ],
      "outputs": [],
      "execution_count": null,
      "metadata": {
        "gather": {
          "logged": 1671189958195
        }
      }
    },
    {
      "cell_type": "markdown",
      "source": [
        "We can log this model in our run. Since this is a Scikit-Learn object, we will log it using such flavor instead of `xgboost`. Let's create a new complete run so we can see the difference."
      ],
      "metadata": {}
    },
    {
      "cell_type": "markdown",
      "source": [
        "### Signatures\n",
        "\n",
        "One extra thing we need to take care of is the expected signature of the model. Signatures are use by MLflow to know what type of inputs are expected for a given model. This allows the model builder to be explicit about which types are being expected. In the first model we logged, all inputs needed to be numeric, including the column `thal`. However, our new pipeline can encode this values automatically so we can take `thal` values in string format."
      ],
      "metadata": {}
    },
    {
      "cell_type": "code",
      "source": [
        "from mlflow.models import infer_signature\n",
        "\n",
        "signature = infer_signature(X_test, y_test)"
      ],
      "outputs": [],
      "execution_count": null,
      "metadata": {
        "gather": {
          "logged": 1671189958222
        }
      }
    },
    {
      "cell_type": "markdown",
      "source": [
        "Let's see the signature"
      ],
      "metadata": {}
    },
    {
      "cell_type": "code",
      "source": [
        "signature"
      ],
      "outputs": [],
      "execution_count": null,
      "metadata": {
        "gather": {
          "logged": 1671189958246
        }
      }
    },
    {
      "cell_type": "markdown",
      "source": [
        "### Logging the pipeline model\n",
        "\n",
        "Now, it's time to to fit our entire pipeline and log it inside the run."
      ],
      "metadata": {}
    },
    {
      "cell_type": "code",
      "source": [
        "with mlflow.start_run() as run:\n",
        "    pipeline.fit(X_train, y_train)\n",
        "    mlflow.sklearn.log_model(pipeline, artifact_path=\"pipeline\", signature=signature)"
      ],
      "outputs": [],
      "execution_count": null,
      "metadata": {
        "gather": {
          "logged": 1671189958270
        }
      }
    },
    {
      "cell_type": "markdown",
      "source": [
        "> **Note:** You are not required to log the pipeline model manually as you can also turn `mlflow.sklearn.autolog()` on. If you do that, the model will automatically be logged for for by Scikit-Learn integration with MLflow. However, we have preferred to it in this way to show the different approaches and to be explit about logging a pipeline."
      ],
      "metadata": {}
    },
    {
      "cell_type": "markdown",
      "source": [
        "If we explore try to get this model back now:"
      ],
      "metadata": {}
    },
    {
      "cell_type": "code",
      "source": [
        "pipeline_model = mlflow.sklearn.load_model(f\"runs:/{run.info.run_id}/pipeline\")"
      ],
      "outputs": [],
      "execution_count": null,
      "metadata": {
        "gather": {
          "logged": 1671189958299
        }
      }
    },
    {
      "cell_type": "markdown",
      "source": [
        "Let's check the type of what's returned"
      ],
      "metadata": {}
    },
    {
      "cell_type": "code",
      "source": [
        "type(pipeline_model)"
      ],
      "outputs": [],
      "execution_count": null,
      "metadata": {
        "gather": {
          "logged": 1671189958324
        }
      }
    },
    {
      "cell_type": "markdown",
      "source": [
        "Let's see how we can submit data in with categorical columns:"
      ],
      "metadata": {}
    },
    {
      "cell_type": "code",
      "source": [
        "pipeline_model.predict(X_test)"
      ],
      "outputs": [],
      "execution_count": null,
      "metadata": {
        "gather": {
          "logged": 1671189958353
        }
      }
    }
  ],
  "metadata": {
    "kernelspec": {
      "name": "python310-sdkv2",
      "language": "python",
      "display_name": "Python 3.10 - SDK V2"
    },
    "language_info": {
      "name": "python",
      "version": "3.10.6",
      "mimetype": "text/x-python",
      "codemirror_mode": {
        "name": "ipython",
        "version": 3
      },
      "pygments_lexer": "ipython3",
      "nbconvert_exporter": "python",
      "file_extension": ".py"
    },
    "kernel_info": {
      "name": "python310-sdkv2"
    },
    "nteract": {
      "version": "nteract-front-end@1.0.0"
    },
    "microsoft": {
      "host": {
        "AzureML": {
          "notebookHasBeenCompleted": true
        }
      }
    }
  },
  "nbformat": 4,
  "nbformat_minor": 4
}