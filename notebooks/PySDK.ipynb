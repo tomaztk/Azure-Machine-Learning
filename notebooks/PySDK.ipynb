{
  "cells": [
    {
      "cell_type": "markdown",
      "source": [
        "# Exploring Python SDK v2 in Azure Machine Learning"
      ],
      "metadata": {
        "nteract": {
          "transient": {
            "deleting": false
          }
        }
      }
    },
    {
      "cell_type": "markdown",
      "source": [
        "In this example we will explore the Python SDK (v1) and some functionalities for Machine Learning.\n",
        "We will create:\n",
        "- Install the required Python packages\n",
        "- MLFlow tracking\n",
        "- Get data from Azure storage\n",
        "- Create a simple Py function\n",
        "- Run the prediction models\n"
      ],
      "metadata": {
        "nteract": {
          "transient": {
            "deleting": false
          }
        }
      }
    },
    {
      "cell_type": "code",
      "source": [
        "# Instsalling required Py Packages\n",
        "#!pip install azure-ai-ml\n",
        "%pip install -r RequirementsPySDK.txt"
      ],
      "outputs": [
        {
          "output_type": "stream",
          "name": "stdout",
          "text": "Requirement already satisfied: numpy in /anaconda/envs/azureml_py38/lib/python3.8/site-packages (from -r RequirementsPySDK.txt (line 3)) (1.21.6)\nRequirement already satisfied: scipy in /anaconda/envs/azureml_py38/lib/python3.8/site-packages (from -r RequirementsPySDK.txt (line 4)) (1.5.3)\nCollecting pandas>=1.2.0\n  Downloading pandas-1.5.2-cp38-cp38-manylinux_2_17_x86_64.manylinux2014_x86_64.whl (12.2 MB)\n\u001b[K     |████████████████████████████████| 12.2 MB 5.4 MB/s eta 0:00:01\n\u001b[?25hRequirement already satisfied: adlfs>=2021.8.1 in /anaconda/envs/azureml_py38/lib/python3.8/site-packages (from -r RequirementsPySDK.txt (line 6)) (2022.10.0)\nRequirement already satisfied: scikit-learn in /anaconda/envs/azureml_py38/lib/python3.8/site-packages (from -r RequirementsPySDK.txt (line 7)) (0.22.1)\nRequirement already satisfied: lightgbm>=3.0.0 in /anaconda/envs/azureml_py38/lib/python3.8/site-packages (from -r RequirementsPySDK.txt (line 8)) (3.2.1)\nRequirement already satisfied: mlflow in /anaconda/envs/azureml_py38/lib/python3.8/site-packages (from -r RequirementsPySDK.txt (line 11)) (1.30.0)\nRequirement already satisfied: azureml-core in /anaconda/envs/azureml_py38/lib/python3.8/site-packages (from -r RequirementsPySDK.txt (line 14)) (1.47.0)\nRequirement already satisfied: azureml-mlflow in /anaconda/envs/azureml_py38/lib/python3.8/site-packages (from -r RequirementsPySDK.txt (line 15)) (1.47.0)\nRequirement already satisfied: python-dateutil>=2.8.1 in /anaconda/envs/azureml_py38/lib/python3.8/site-packages (from pandas>=1.2.0->-r RequirementsPySDK.txt (line 5)) (2.8.2)\nRequirement already satisfied: pytz>=2020.1 in /anaconda/envs/azureml_py38/lib/python3.8/site-packages (from pandas>=1.2.0->-r RequirementsPySDK.txt (line 5)) (2022.5)\nRequirement already satisfied: fsspec>=2021.10.1 in /anaconda/envs/azureml_py38/lib/python3.8/site-packages (from adlfs>=2021.8.1->-r RequirementsPySDK.txt (line 6)) (2022.10.0)\nRequirement already satisfied: azure-storage-blob>=12.12.0 in /anaconda/envs/azureml_py38/lib/python3.8/site-packages (from adlfs>=2021.8.1->-r RequirementsPySDK.txt (line 6)) (12.13.0)\nRequirement already satisfied: azure-datalake-store<0.1,>=0.0.46 in /anaconda/envs/azureml_py38/lib/python3.8/site-packages (from adlfs>=2021.8.1->-r RequirementsPySDK.txt (line 6)) (0.0.52)\nRequirement already satisfied: aiohttp>=3.7.0 in /anaconda/envs/azureml_py38/lib/python3.8/site-packages (from adlfs>=2021.8.1->-r RequirementsPySDK.txt (line 6)) (3.8.3)\nRequirement already satisfied: azure-identity in /anaconda/envs/azureml_py38/lib/python3.8/site-packages (from adlfs>=2021.8.1->-r RequirementsPySDK.txt (line 6)) (1.7.0)\nRequirement already satisfied: azure-core>=1.7.0 in /anaconda/envs/azureml_py38/lib/python3.8/site-packages (from adlfs>=2021.8.1->-r RequirementsPySDK.txt (line 6)) (1.26.0)\nRequirement already satisfied: joblib>=0.11 in /anaconda/envs/azureml_py38/lib/python3.8/site-packages (from scikit-learn->-r RequirementsPySDK.txt (line 7)) (0.14.1)\nRequirement already satisfied: wheel in /anaconda/envs/azureml_py38/lib/python3.8/site-packages (from lightgbm>=3.0.0->-r RequirementsPySDK.txt (line 8)) (0.37.1)\nRequirement already satisfied: Flask<3 in /anaconda/envs/azureml_py38/lib/python3.8/site-packages (from mlflow->-r RequirementsPySDK.txt (line 11)) (2.2.2)\nRequirement already satisfied: pyyaml<7,>=5.1 in /anaconda/envs/azureml_py38/lib/python3.8/site-packages (from mlflow->-r RequirementsPySDK.txt (line 11)) (6.0)\nRequirement already satisfied: prometheus-flask-exporter<1 in /anaconda/envs/azureml_py38/lib/python3.8/site-packages (from mlflow->-r RequirementsPySDK.txt (line 11)) (0.21.0)\nRequirement already satisfied: databricks-cli<1,>=0.8.7 in /anaconda/envs/azureml_py38/lib/python3.8/site-packages (from mlflow->-r RequirementsPySDK.txt (line 11)) (0.17.3)\nRequirement already satisfied: packaging<22 in /anaconda/envs/azureml_py38/lib/python3.8/site-packages (from mlflow->-r RequirementsPySDK.txt (line 11)) (21.3)\nRequirement already satisfied: importlib-metadata!=4.7.0,<6,>=3.7.0 in /anaconda/envs/azureml_py38/lib/python3.8/site-packages (from mlflow->-r RequirementsPySDK.txt (line 11)) (4.13.0)\nRequirement already satisfied: gunicorn<21; platform_system != \"Windows\" in /anaconda/envs/azureml_py38/lib/python3.8/site-packages (from mlflow->-r RequirementsPySDK.txt (line 11)) (20.1.0)\nRequirement already satisfied: docker<7,>=4.0.0 in /anaconda/envs/azureml_py38/lib/python3.8/site-packages (from mlflow->-r RequirementsPySDK.txt (line 11)) (6.0.0)\nRequirement already satisfied: sqlalchemy<2,>=1.4.0 in /anaconda/envs/azureml_py38/lib/python3.8/site-packages (from mlflow->-r RequirementsPySDK.txt (line 11)) (1.4.43)\nRequirement already satisfied: click<9,>=7.0 in /anaconda/envs/azureml_py38/lib/python3.8/site-packages (from mlflow->-r RequirementsPySDK.txt (line 11)) (8.1.3)\nRequirement already satisfied: sqlparse<1,>=0.4.0 in /anaconda/envs/azureml_py38/lib/python3.8/site-packages (from mlflow->-r RequirementsPySDK.txt (line 11)) (0.4.3)\nRequirement already satisfied: requests<3,>=2.17.3 in /anaconda/envs/azureml_py38/lib/python3.8/site-packages (from mlflow->-r RequirementsPySDK.txt (line 11)) (2.28.1)\nRequirement already satisfied: gitpython<4,>=2.1.0 in /anaconda/envs/azureml_py38/lib/python3.8/site-packages (from mlflow->-r RequirementsPySDK.txt (line 11)) (3.1.29)\nRequirement already satisfied: querystring-parser<2 in /anaconda/envs/azureml_py38/lib/python3.8/site-packages (from mlflow->-r RequirementsPySDK.txt (line 11)) (1.2.4)\nRequirement already satisfied: cloudpickle<3 in /anaconda/envs/azureml_py38/lib/python3.8/site-packages (from mlflow->-r RequirementsPySDK.txt (line 11)) (1.6.0)\nRequirement already satisfied: entrypoints<1 in /anaconda/envs/azureml_py38/lib/python3.8/site-packages (from mlflow->-r RequirementsPySDK.txt (line 11)) (0.4)\nRequirement already satisfied: protobuf<5,>=3.12.0 in /anaconda/envs/azureml_py38/lib/python3.8/site-packages (from mlflow->-r RequirementsPySDK.txt (line 11)) (3.20.1)\nRequirement already satisfied: alembic<2 in /anaconda/envs/azureml_py38/lib/python3.8/site-packages (from mlflow->-r RequirementsPySDK.txt (line 11)) (1.8.1)\nRequirement already satisfied: ndg-httpsclient<=0.5.1 in /anaconda/envs/azureml_py38/lib/python3.8/site-packages (from azureml-core->-r RequirementsPySDK.txt (line 14)) (0.5.1)\nRequirement already satisfied: msrestazure<=0.6.4,>=0.4.33 in /anaconda/envs/azureml_py38/lib/python3.8/site-packages (from azureml-core->-r RequirementsPySDK.txt (line 14)) (0.6.4)\nRequirement already satisfied: adal<=1.2.7,>=1.2.0 in /anaconda/envs/azureml_py38/lib/python3.8/site-packages (from azureml-core->-r RequirementsPySDK.txt (line 14)) (1.2.7)\nRequirement already satisfied: azure-mgmt-storage<21.0.0,>=16.0.0 in /anaconda/envs/azureml_py38/lib/python3.8/site-packages (from azureml-core->-r RequirementsPySDK.txt (line 14)) (20.1.0)\nRequirement already satisfied: cryptography!=1.9,!=2.0.*,!=2.1.*,!=2.2.*,<41 in /anaconda/envs/azureml_py38/lib/python3.8/site-packages (from azureml-core->-r RequirementsPySDK.txt (line 14)) (38.0.1)\nRequirement already satisfied: urllib3<2.0.0,>=1.23 in /anaconda/envs/azureml_py38/lib/python3.8/site-packages (from azureml-core->-r RequirementsPySDK.txt (line 14)) (1.26.12)\nRequirement already satisfied: azure-common<2.0.0,>=1.1.12 in /anaconda/envs/azureml_py38/lib/python3.8/site-packages (from azureml-core->-r RequirementsPySDK.txt (line 14)) (1.1.28)\nRequirement already satisfied: azure-mgmt-authorization<3,>=0.40.0 in /anaconda/envs/azureml_py38/lib/python3.8/site-packages (from azureml-core->-r RequirementsPySDK.txt (line 14)) (2.0.0)\nRequirement already satisfied: azure-mgmt-keyvault<11.0.0,>=0.40.0 in /anaconda/envs/azureml_py38/lib/python3.8/site-packages (from azureml-core->-r RequirementsPySDK.txt (line 14)) (10.1.0)\nRequirement already satisfied: contextlib2<22.0.0 in /anaconda/envs/azureml_py38/lib/python3.8/site-packages (from azureml-core->-r RequirementsPySDK.txt (line 14)) (21.6.0)\nRequirement already satisfied: PyJWT<3.0.0 in /anaconda/envs/azureml_py38/lib/python3.8/site-packages (from azureml-core->-r RequirementsPySDK.txt (line 14)) (2.4.0)\nRequirement already satisfied: paramiko<3.0.0,>=2.0.8 in /anaconda/envs/azureml_py38/lib/python3.8/site-packages (from azureml-core->-r RequirementsPySDK.txt (line 14)) (2.11.0)\nRequirement already satisfied: backports.tempfile in /anaconda/envs/azureml_py38/lib/python3.8/site-packages (from azureml-core->-r RequirementsPySDK.txt (line 14)) (1.0)\nRequirement already satisfied: pkginfo in /anaconda/envs/azureml_py38/lib/python3.8/site-packages (from azureml-core->-r RequirementsPySDK.txt (line 14)) (1.8.3)\nRequirement already satisfied: humanfriendly<11.0,>=4.7 in /anaconda/envs/azureml_py38/lib/python3.8/site-packages (from azureml-core->-r RequirementsPySDK.txt (line 14)) (10.0)\nRequirement already satisfied: msal-extensions<=1.0.0,>=0.3.0 in /anaconda/envs/azureml_py38/lib/python3.8/site-packages (from azureml-core->-r RequirementsPySDK.txt (line 14)) (0.3.1)\nRequirement already satisfied: SecretStorage<4.0.0 in /anaconda/envs/azureml_py38/lib/python3.8/site-packages (from azureml-core->-r RequirementsPySDK.txt (line 14)) (3.3.3)\nRequirement already satisfied: msrest<=0.7.1,>=0.5.1 in /anaconda/envs/azureml_py38/lib/python3.8/site-packages (from azureml-core->-r RequirementsPySDK.txt (line 14)) (0.7.1)\nRequirement already satisfied: jsonpickle<3.0.0 in /anaconda/envs/azureml_py38/lib/python3.8/site-packages (from azureml-core->-r RequirementsPySDK.txt (line 14)) (2.2.0)\nRequirement already satisfied: azure-graphrbac<1.0.0,>=0.40.0 in /anaconda/envs/azureml_py38/lib/python3.8/site-packages (from azureml-core->-r RequirementsPySDK.txt (line 14)) (0.61.1)\nRequirement already satisfied: azure-mgmt-resource<22.0.0,>=15.0.0 in /anaconda/envs/azureml_py38/lib/python3.8/site-packages (from azureml-core->-r RequirementsPySDK.txt (line 14)) (21.2.1)\nRequirement already satisfied: azure-mgmt-containerregistry<11,>=8.2.0 in /anaconda/envs/azureml_py38/lib/python3.8/site-packages (from azureml-core->-r RequirementsPySDK.txt (line 14)) (10.0.0)\nRequirement already satisfied: jmespath<2.0.0 in /anaconda/envs/azureml_py38/lib/python3.8/site-packages (from azureml-core->-r RequirementsPySDK.txt (line 14)) (0.10.0)\nRequirement already satisfied: pyopenssl<23.0.0 in /anaconda/envs/azureml_py38/lib/python3.8/site-packages (from azureml-core->-r RequirementsPySDK.txt (line 14)) (22.0.0)\nRequirement already satisfied: argcomplete<3 in /anaconda/envs/azureml_py38/lib/python3.8/site-packages (from azureml-core->-r RequirementsPySDK.txt (line 14)) (2.0.0)\nRequirement already satisfied: knack~=0.10.0 in /anaconda/envs/azureml_py38/lib/python3.8/site-packages (from azureml-core->-r RequirementsPySDK.txt (line 14)) (0.10.0)\nRequirement already satisfied: pathspec<1.0.0 in /anaconda/envs/azureml_py38/lib/python3.8/site-packages (from azureml-core->-r RequirementsPySDK.txt (line 14)) (0.10.1)\nRequirement already satisfied: msal<2.0.0,>=1.15.0 in /anaconda/envs/azureml_py38/lib/python3.8/site-packages (from azureml-core->-r RequirementsPySDK.txt (line 14)) (1.20.0)\nRequirement already satisfied: mlflow-skinny in /anaconda/envs/azureml_py38/lib/python3.8/site-packages (from azureml-mlflow->-r RequirementsPySDK.txt (line 15)) (1.29.0)\nRequirement already satisfied: azure-mgmt-core<2.0.0,>=1.2.0 in /anaconda/envs/azureml_py38/lib/python3.8/site-packages (from azureml-mlflow->-r RequirementsPySDK.txt (line 15)) (1.3.2)\nRequirement already satisfied: six>=1.5 in /anaconda/envs/azureml_py38/lib/python3.8/site-packages (from python-dateutil>=2.8.1->pandas>=1.2.0->-r RequirementsPySDK.txt (line 5)) (1.16.0)\nRequirement already satisfied: cffi in /anaconda/envs/azureml_py38/lib/python3.8/site-packages (from azure-datalake-store<0.1,>=0.0.46->adlfs>=2021.8.1->-r RequirementsPySDK.txt (line 6)) (1.15.1)\nRequirement already satisfied: aiosignal>=1.1.2 in /anaconda/envs/azureml_py38/lib/python3.8/site-packages (from aiohttp>=3.7.0->adlfs>=2021.8.1->-r RequirementsPySDK.txt (line 6)) (1.2.0)\nRequirement already satisfied: async-timeout<5.0,>=4.0.0a3 in /anaconda/envs/azureml_py38/lib/python3.8/site-packages (from aiohttp>=3.7.0->adlfs>=2021.8.1->-r RequirementsPySDK.txt (line 6)) (4.0.2)\nRequirement already satisfied: multidict<7.0,>=4.5 in /anaconda/envs/azureml_py38/lib/python3.8/site-packages (from aiohttp>=3.7.0->adlfs>=2021.8.1->-r RequirementsPySDK.txt (line 6)) (6.0.2)\nRequirement already satisfied: yarl<2.0,>=1.0 in /anaconda/envs/azureml_py38/lib/python3.8/site-packages (from aiohttp>=3.7.0->adlfs>=2021.8.1->-r RequirementsPySDK.txt (line 6)) (1.8.1)\nRequirement already satisfied: charset-normalizer<3.0,>=2.0 in /anaconda/envs/azureml_py38/lib/python3.8/site-packages (from aiohttp>=3.7.0->adlfs>=2021.8.1->-r RequirementsPySDK.txt (line 6)) (2.1.1)\nRequirement already satisfied: attrs>=17.3.0 in /anaconda/envs/azureml_py38/lib/python3.8/site-packages (from aiohttp>=3.7.0->adlfs>=2021.8.1->-r RequirementsPySDK.txt (line 6)) (22.1.0)\nRequirement already satisfied: frozenlist>=1.1.1 in /anaconda/envs/azureml_py38/lib/python3.8/site-packages (from aiohttp>=3.7.0->adlfs>=2021.8.1->-r RequirementsPySDK.txt (line 6)) (1.3.1)\nRequirement already satisfied: typing-extensions>=4.0.1 in /anaconda/envs/azureml_py38/lib/python3.8/site-packages (from azure-core>=1.7.0->adlfs>=2021.8.1->-r RequirementsPySDK.txt (line 6)) (4.4.0)\nRequirement already satisfied: Werkzeug>=2.2.2 in /anaconda/envs/azureml_py38/lib/python3.8/site-packages (from Flask<3->mlflow->-r RequirementsPySDK.txt (line 11)) (2.2.2)\nRequirement already satisfied: itsdangerous>=2.0 in /anaconda/envs/azureml_py38/lib/python3.8/site-packages (from Flask<3->mlflow->-r RequirementsPySDK.txt (line 11)) (2.1.2)\nCollecting Jinja2>=3.0\n  Downloading Jinja2-3.1.2-py3-none-any.whl (133 kB)\n\u001b[K     |████████████████████████████████| 133 kB 77.6 MB/s eta 0:00:01\n\u001b[?25hRequirement already satisfied: prometheus-client in /anaconda/envs/azureml_py38/lib/python3.8/site-packages (from prometheus-flask-exporter<1->mlflow->-r RequirementsPySDK.txt (line 11)) (0.15.0)\nRequirement already satisfied: tabulate>=0.7.7 in /anaconda/envs/azureml_py38/lib/python3.8/site-packages (from databricks-cli<1,>=0.8.7->mlflow->-r RequirementsPySDK.txt (line 11)) (0.9.0)\nRequirement already satisfied: oauthlib>=3.1.0 in /anaconda/envs/azureml_py38/lib/python3.8/site-packages (from databricks-cli<1,>=0.8.7->mlflow->-r RequirementsPySDK.txt (line 11)) (3.2.2)\nRequirement already satisfied: pyparsing!=3.0.5,>=2.0.2 in /anaconda/envs/azureml_py38/lib/python3.8/site-packages (from packaging<22->mlflow->-r RequirementsPySDK.txt (line 11)) (3.0.9)\nRequirement already satisfied: zipp>=0.5 in /anaconda/envs/azureml_py38/lib/python3.8/site-packages (from importlib-metadata!=4.7.0,<6,>=3.7.0->mlflow->-r RequirementsPySDK.txt (line 11)) (3.9.0)\nRequirement already satisfied: setuptools>=3.0 in /anaconda/envs/azureml_py38/lib/python3.8/site-packages (from gunicorn<21; platform_system != \"Windows\"->mlflow->-r RequirementsPySDK.txt (line 11)) (49.6.0)\nRequirement already satisfied: websocket-client>=0.32.0 in /anaconda/envs/azureml_py38/lib/python3.8/site-packages (from docker<7,>=4.0.0->mlflow->-r RequirementsPySDK.txt (line 11)) (1.4.1)\nRequirement already satisfied: greenlet!=0.4.17; python_version >= \"3\" and (platform_machine == \"aarch64\" or (platform_machine == \"ppc64le\" or (platform_machine == \"x86_64\" or (platform_machine == \"amd64\" or (platform_machine == \"AMD64\" or (platform_machine == \"win32\" or platform_machine == \"WIN32\")))))) in /anaconda/envs/azureml_py38/lib/python3.8/site-packages (from sqlalchemy<2,>=1.4.0->mlflow->-r RequirementsPySDK.txt (line 11)) (2.0.1)\nRequirement already satisfied: idna<4,>=2.5 in /anaconda/envs/azureml_py38/lib/python3.8/site-packages (from requests<3,>=2.17.3->mlflow->-r RequirementsPySDK.txt (line 11)) (3.4)\nRequirement already satisfied: certifi>=2017.4.17 in /anaconda/envs/azureml_py38/lib/python3.8/site-packages (from requests<3,>=2.17.3->mlflow->-r RequirementsPySDK.txt (line 11)) (2022.9.24)\nRequirement already satisfied: gitdb<5,>=4.0.1 in /anaconda/envs/azureml_py38/lib/python3.8/site-packages (from gitpython<4,>=2.1.0->mlflow->-r RequirementsPySDK.txt (line 11)) (4.0.9)\nRequirement already satisfied: importlib-resources; python_version < \"3.9\" in /anaconda/envs/azureml_py38/lib/python3.8/site-packages (from alembic<2->mlflow->-r RequirementsPySDK.txt (line 11)) (5.10.0)\nRequirement already satisfied: Mako in /anaconda/envs/azureml_py38/lib/python3.8/site-packages (from alembic<2->mlflow->-r RequirementsPySDK.txt (line 11)) (1.2.3)\nRequirement already satisfied: pyasn1>=0.1.1 in /anaconda/envs/azureml_py38/lib/python3.8/site-packages (from ndg-httpsclient<=0.5.1->azureml-core->-r RequirementsPySDK.txt (line 14)) (0.4.8)\nRequirement already satisfied: pynacl>=1.0.1 in /anaconda/envs/azureml_py38/lib/python3.8/site-packages (from paramiko<3.0.0,>=2.0.8->azureml-core->-r RequirementsPySDK.txt (line 14)) (1.5.0)\nRequirement already satisfied: bcrypt>=3.1.3 in /anaconda/envs/azureml_py38/lib/python3.8/site-packages (from paramiko<3.0.0,>=2.0.8->azureml-core->-r RequirementsPySDK.txt (line 14)) (4.0.1)\nRequirement already satisfied: backports.weakref in /anaconda/envs/azureml_py38/lib/python3.8/site-packages (from backports.tempfile->azureml-core->-r RequirementsPySDK.txt (line 14)) (1.0.post1)\nRequirement already satisfied: portalocker<3,>=1.0; python_version >= \"3.5\" and platform_system != \"Windows\" in /anaconda/envs/azureml_py38/lib/python3.8/site-packages (from msal-extensions<=1.0.0,>=0.3.0->azureml-core->-r RequirementsPySDK.txt (line 14)) (2.6.0)\nRequirement already satisfied: jeepney>=0.6 in /anaconda/envs/azureml_py38/lib/python3.8/site-packages (from SecretStorage<4.0.0->azureml-core->-r RequirementsPySDK.txt (line 14)) (0.8.0)\nRequirement already satisfied: isodate>=0.6.0 in /anaconda/envs/azureml_py38/lib/python3.8/site-packages (from msrest<=0.7.1,>=0.5.1->azureml-core->-r RequirementsPySDK.txt (line 14)) (0.6.1)\nRequirement already satisfied: requests-oauthlib>=0.5.0 in /anaconda/envs/azureml_py38/lib/python3.8/site-packages (from msrest<=0.7.1,>=0.5.1->azureml-core->-r RequirementsPySDK.txt (line 14)) (1.3.1)\nRequirement already satisfied: pygments in /anaconda/envs/azureml_py38/lib/python3.8/site-packages (from knack~=0.10.0->azureml-core->-r RequirementsPySDK.txt (line 14)) (2.13.0)\nRequirement already satisfied: pycparser in /anaconda/envs/azureml_py38/lib/python3.8/site-packages (from cffi->azure-datalake-store<0.1,>=0.0.46->adlfs>=2021.8.1->-r RequirementsPySDK.txt (line 6)) (2.21)\nCollecting MarkupSafe>=2.1.1\n  Downloading MarkupSafe-2.1.1-cp38-cp38-manylinux_2_17_x86_64.manylinux2014_x86_64.whl (25 kB)\nRequirement already satisfied: smmap<6,>=3.0.1 in /anaconda/envs/azureml_py38/lib/python3.8/site-packages (from gitdb<5,>=4.0.1->gitpython<4,>=2.1.0->mlflow->-r RequirementsPySDK.txt (line 11)) (5.0.0)\n\u001b[31mERROR: pyldavis 3.3.1 requires sklearn, which is not installed.\u001b[0m\n\u001b[31mERROR: pandas-ml 0.6.1 requires enum34, which is not installed.\u001b[0m\n\u001b[31mERROR: fbprophet 0.7.1 requires cmdstanpy==0.9.5, which is not installed.\u001b[0m\n\u001b[31mERROR: tensorboard 2.2.2 has requirement google-auth<2,>=1.6.3, but you'll have google-auth 2.13.0 which is incompatible.\u001b[0m\n\u001b[31mERROR: responsibleai 0.22.0 has requirement ipykernel<=6.6.0, but you'll have ipykernel 6.8.0 which is incompatible.\u001b[0m\n\u001b[31mERROR: responsibleai 0.22.0 has requirement markupsafe<2.1.0, but you'll have markupsafe 2.1.1 which is incompatible.\u001b[0m\n\u001b[31mERROR: responsibleai 0.22.0 has requirement numba<0.54.0, but you'll have numba 0.55.2 which is incompatible.\u001b[0m\n\u001b[31mERROR: raiwidgets 0.22.0 has requirement itsdangerous==2.0.1, but you'll have itsdangerous 2.1.2 which is incompatible.\u001b[0m\n\u001b[31mERROR: rai-core-flask 0.4.0 has requirement gevent==21.12.0, but you'll have gevent 1.3.6 which is incompatible.\u001b[0m\n\u001b[31mERROR: rai-core-flask 0.4.0 has requirement greenlet==1.1.2, but you'll have greenlet 2.0.1 which is incompatible.\u001b[0m\n\u001b[31mERROR: rai-core-flask 0.4.0 has requirement ipython==7.31.1; python_version > \"3.6\", but you'll have ipython 8.5.0 which is incompatible.\u001b[0m\n\u001b[31mERROR: rai-core-flask 0.4.0 has requirement itsdangerous==2.0.1, but you'll have itsdangerous 2.1.2 which is incompatible.\u001b[0m\n\u001b[31mERROR: rai-core-flask 0.4.0 has requirement markupsafe<2.1.0, but you'll have markupsafe 2.1.1 which is incompatible.\u001b[0m\n\u001b[31mERROR: rai-core-flask 0.4.0 has requirement Werkzeug<2.1.0, but you'll have werkzeug 2.2.2 which is incompatible.\u001b[0m\n\u001b[31mERROR: pycaret 2.3.10 has requirement numba<0.55, but you'll have numba 0.55.2 which is incompatible.\u001b[0m\n\u001b[31mERROR: pycaret 2.3.10 has requirement pyyaml<6.0.0, but you'll have pyyaml 6.0 which is incompatible.\u001b[0m\n\u001b[31mERROR: pycaret 2.3.10 has requirement scikit-learn==0.23.2, but you'll have scikit-learn 0.22.1 which is incompatible.\u001b[0m\n\u001b[31mERROR: pandas-profiling 3.4.0 has requirement statsmodels<0.14,>=0.13.2, but you'll have statsmodels 0.11.0 which is incompatible.\u001b[0m\n\u001b[31mERROR: mlxtend 0.21.0 has requirement scikit-learn>=1.0.2, but you'll have scikit-learn 0.22.1 which is incompatible.\u001b[0m\n\u001b[31mERROR: dask-sql 2022.10.1 has requirement dask[dataframe,distributed]<=2022.10.0,>=2022.3.0, but you'll have dask 2.30.0 which is incompatible.\u001b[0m\n\u001b[31mERROR: azureml-widgets 1.47.0 has requirement jinja2<=2.11.2, but you'll have jinja2 3.1.2 which is incompatible.\u001b[0m\n\u001b[31mERROR: azureml-widgets 1.47.0 has requirement markupsafe<2.1.0, but you'll have markupsafe 2.1.1 which is incompatible.\u001b[0m\n\u001b[31mERROR: azureml-training-tabular 1.47.0 has requirement pandas==1.1.5, but you'll have pandas 1.5.2 which is incompatible.\u001b[0m\n\u001b[31mERROR: azureml-train-automl-runtime 1.47.0 has requirement jinja2<=2.11.2, but you'll have jinja2 3.1.2 which is incompatible.\u001b[0m\n\u001b[31mERROR: azureml-train-automl-runtime 1.47.0 has requirement markupsafe<2.1.0, but you'll have markupsafe 2.1.1 which is incompatible.\u001b[0m\n\u001b[31mERROR: azureml-train-automl-runtime 1.47.0 has requirement pandas==1.1.5, but you'll have pandas 1.5.2 which is incompatible.\u001b[0m\n\u001b[31mERROR: azureml-inference-server-http 0.7.6 has requirement flask<2.2.0, but you'll have flask 2.2.2 which is incompatible.\u001b[0m\n\u001b[31mERROR: azureml-contrib-notebook 1.47.0 has requirement nbconvert<6, but you'll have nbconvert 7.2.4 which is incompatible.\u001b[0m\n\u001b[31mERROR: azureml-automl-runtime 1.47.0 has requirement pandas==1.1.5, but you'll have pandas 1.5.2 which is incompatible.\u001b[0m\n\u001b[31mERROR: autokeras 1.0.16 has requirement tensorflow<=2.5.0,>=2.3.0, but you'll have tensorflow 2.2.1 which is incompatible.\u001b[0m\n\u001b[31mERROR: arviz 0.11.2 has requirement typing-extensions<4,>=3.7.4.3, but you'll have typing-extensions 4.4.0 which is incompatible.\u001b[0m\nInstalling collected packages: pandas, MarkupSafe, Jinja2\n  Attempting uninstall: pandas\n    Found existing installation: pandas 1.1.5\n    Uninstalling pandas-1.1.5:\n      Successfully uninstalled pandas-1.1.5\n  Attempting uninstall: MarkupSafe\n    Found existing installation: MarkupSafe 2.0.1\n    Uninstalling MarkupSafe-2.0.1:\n      Successfully uninstalled MarkupSafe-2.0.1\n  Attempting uninstall: Jinja2\n    Found existing installation: Jinja2 2.11.2\n    Uninstalling Jinja2-2.11.2:\n      Successfully uninstalled Jinja2-2.11.2\nSuccessfully installed Jinja2-3.1.2 MarkupSafe-2.1.1 pandas-1.5.2\nNote: you may need to restart the kernel to use updated packages.\n"
        }
      ],
      "execution_count": 2,
      "metadata": {
        "gather": {
          "logged": 1670389740582
        }
      }
    },
    {
      "cell_type": "code",
      "source": [
        "#import mlflow and set tracking and import Workspace\n",
        "import mlflow\n",
        "from azureml.core import Workspace\n",
        "\n",
        "ws = Workspace.from_config()\n",
        "\n",
        "mlflow.set_tracking_uri(ws.get_mlflow_tracking_uri())\n",
        "mlflow.set_experiment(\"lightgbm-iris-toy-demo\")\n",
        "     "
      ],
      "outputs": [
        {
          "output_type": "stream",
          "name": "stderr",
          "text": "2022/12/07 05:12:34 INFO mlflow.tracking.fluent: Experiment with name 'lightgbm-iris-toy-demo' does not exist. Creating a new experiment.\n"
        },
        {
          "output_type": "execute_result",
          "execution_count": 3,
          "data": {
            "text/plain": "<Experiment: artifact_location='', creation_time=1670389955391, experiment_id='cb09a125-b165-4a68-9525-fb606f6a5837', last_update_time=None, lifecycle_stage='active', name='lightgbm-iris-toy-demo', tags={}>"
          },
          "metadata": {}
        }
      ],
      "execution_count": 3,
      "metadata": {
        "jupyter": {
          "source_hidden": false,
          "outputs_hidden": false
        },
        "nteract": {
          "transient": {
            "deleting": false
          }
        },
        "gather": {
          "logged": 1670389955457
        }
      }
    },
    {
      "cell_type": "code",
      "source": [
        "# get the data from local Azure Blob store\n",
        "# this is a general location for the data. \n",
        "data_uri = \"https://azuremlexamples.blob.core.windows.net/datasets/iris.csv\""
      ],
      "outputs": [],
      "execution_count": 4,
      "metadata": {
        "jupyter": {
          "source_hidden": false,
          "outputs_hidden": false
        },
        "nteract": {
          "transient": {
            "deleting": false
          }
        },
        "gather": {
          "logged": 1670389987233
        }
      }
    },
    {
      "cell_type": "code",
      "source": [
        "#convert CSV to pandas and check the first couple of rows\n",
        "import pandas as pd\n",
        "\n",
        "df = pd.read_csv(data_uri)\n",
        "df.head()"
      ],
      "outputs": [
        {
          "output_type": "execute_result",
          "execution_count": 5,
          "data": {
            "text/plain": "   sepal_length  sepal_width  petal_length  petal_width      species\n0           5.1          3.5           1.4          0.2  Iris-setosa\n1           4.9          3.0           1.4          0.2  Iris-setosa\n2           4.7          3.2           1.3          0.2  Iris-setosa\n3           4.6          3.1           1.5          0.2  Iris-setosa\n4           5.0          3.6           1.4          0.2  Iris-setosa",
            "text/html": "<div>\n<style scoped>\n    .dataframe tbody tr th:only-of-type {\n        vertical-align: middle;\n    }\n\n    .dataframe tbody tr th {\n        vertical-align: top;\n    }\n\n    .dataframe thead th {\n        text-align: right;\n    }\n</style>\n<table border=\"1\" class=\"dataframe\">\n  <thead>\n    <tr style=\"text-align: right;\">\n      <th></th>\n      <th>sepal_length</th>\n      <th>sepal_width</th>\n      <th>petal_length</th>\n      <th>petal_width</th>\n      <th>species</th>\n    </tr>\n  </thead>\n  <tbody>\n    <tr>\n      <th>0</th>\n      <td>5.1</td>\n      <td>3.5</td>\n      <td>1.4</td>\n      <td>0.2</td>\n      <td>Iris-setosa</td>\n    </tr>\n    <tr>\n      <th>1</th>\n      <td>4.9</td>\n      <td>3.0</td>\n      <td>1.4</td>\n      <td>0.2</td>\n      <td>Iris-setosa</td>\n    </tr>\n    <tr>\n      <th>2</th>\n      <td>4.7</td>\n      <td>3.2</td>\n      <td>1.3</td>\n      <td>0.2</td>\n      <td>Iris-setosa</td>\n    </tr>\n    <tr>\n      <th>3</th>\n      <td>4.6</td>\n      <td>3.1</td>\n      <td>1.5</td>\n      <td>0.2</td>\n      <td>Iris-setosa</td>\n    </tr>\n    <tr>\n      <th>4</th>\n      <td>5.0</td>\n      <td>3.6</td>\n      <td>1.4</td>\n      <td>0.2</td>\n      <td>Iris-setosa</td>\n    </tr>\n  </tbody>\n</table>\n</div>"
          },
          "metadata": {}
        }
      ],
      "execution_count": 5,
      "metadata": {
        "jupyter": {
          "source_hidden": false,
          "outputs_hidden": false
        },
        "nteract": {
          "transient": {
            "deleting": false
          }
        },
        "gather": {
          "logged": 1670390025373
        }
      }
    },
    {
      "cell_type": "markdown",
      "source": [
        "Now, let's create some Python functions for machine learning. These will be:\n",
        "- preprocess_data\n",
        "- train_model\n",
        "- evaluate_model\n",
        "\n",
        "I am importing also sklearn metrics functions - log_loss and accuracy_score, as well as the sklearn train_test split functions :-)\n"
      ],
      "metadata": {
        "nteract": {
          "transient": {
            "deleting": false
          }
        }
      }
    },
    {
      "cell_type": "code",
      "source": [
        "# imports\n",
        "import time\n",
        "\n",
        "import lightgbm as lgb\n",
        "\n",
        "from sklearn.metrics import log_loss, accuracy_score\n",
        "from sklearn.preprocessing import LabelEncoder\n",
        "from sklearn.model_selection import train_test_split\n",
        "\n",
        "# define functions\n",
        "def preprocess_data(df):\n",
        "    X = df.drop([\"species\"], axis=1)\n",
        "    y = df[\"species\"]\n",
        "\n",
        "    enc = LabelEncoder()\n",
        "    y = enc.fit_transform(y)\n",
        "\n",
        "    X_train, X_test, y_train, y_test = train_test_split(\n",
        "        X, y, test_size=0.2, random_state=42\n",
        "    )\n",
        "\n",
        "    return X_train, X_test, y_train, y_test, enc\n",
        "\n",
        "\n",
        "def train_model(params, num_boost_round, X_train, X_test, y_train, y_test):\n",
        "    t1 = time.time()\n",
        "    train_data = lgb.Dataset(X_train, label=y_train)\n",
        "    test_data = lgb.Dataset(X_test, label=y_test)\n",
        "    model = lgb.train(\n",
        "        params,\n",
        "        train_data,\n",
        "        num_boost_round=num_boost_round,\n",
        "        valid_sets=[test_data],\n",
        "        valid_names=[\"test\"],\n",
        "    )\n",
        "    t2 = time.time()\n",
        "\n",
        "    return model, t2 - t1\n",
        "\n",
        "\n",
        "def evaluate_model(model, X_test, y_test):\n",
        "    y_proba = model.predict(X_test)\n",
        "    y_pred = y_proba.argmax(axis=1)\n",
        "    loss = log_loss(y_test, y_proba)\n",
        "    acc = accuracy_score(y_test, y_pred)\n",
        "\n",
        "    return loss, acc"
      ],
      "outputs": [
        {
          "output_type": "stream",
          "name": "stderr",
          "text": "/anaconda/envs/azureml_py38/lib/python3.8/site-packages/dask/dataframe/utils.py:367: FutureWarning: pandas.Int64Index is deprecated and will be removed from pandas in a future version. Use pandas.Index with the appropriate dtype instead.\n  _numeric_index_types = (pd.Int64Index, pd.Float64Index, pd.UInt64Index)\n/anaconda/envs/azureml_py38/lib/python3.8/site-packages/dask/dataframe/utils.py:367: FutureWarning: pandas.Float64Index is deprecated and will be removed from pandas in a future version. Use pandas.Index with the appropriate dtype instead.\n  _numeric_index_types = (pd.Int64Index, pd.Float64Index, pd.UInt64Index)\n/anaconda/envs/azureml_py38/lib/python3.8/site-packages/dask/dataframe/utils.py:367: FutureWarning: pandas.UInt64Index is deprecated and will be removed from pandas in a future version. Use pandas.Index with the appropriate dtype instead.\n  _numeric_index_types = (pd.Int64Index, pd.Float64Index, pd.UInt64Index)\n"
        }
      ],
      "execution_count": 6,
      "metadata": {
        "jupyter": {
          "source_hidden": false,
          "outputs_hidden": false
        },
        "nteract": {
          "transient": {
            "deleting": false
          }
        },
        "gather": {
          "logged": 1670391722954
        }
      }
    },
    {
      "cell_type": "markdown",
      "source": [
        "We will define the parameters for Lightgbm and create a wrapper for MLFlow to start logging and evaluating the models."
      ],
      "metadata": {
        "nteract": {
          "transient": {
            "deleting": false
          }
        }
      }
    },
    {
      "cell_type": "code",
      "source": [
        "\n",
        "# preprocess data\n",
        "X_train, X_test, y_train, y_test, enc = preprocess_data(df)\n",
        "\n",
        "# set training parameters\n",
        "params = {\n",
        "    \"objective\": \"multiclass\",\n",
        "    \"num_class\": 3,\n",
        "    \"learning_rate\": 0.1,\n",
        "    \"metric\": \"multi_logloss\",\n",
        "    \"colsample_bytree\": 1.0,\n",
        "    \"subsample\": 1.0,\n",
        "    \"seed\": 42,\n",
        "}\n",
        "\n",
        "num_boost_round = 32\n",
        "\n",
        "# start run\n",
        "run = mlflow.start_run()\n",
        "\n",
        "# enable automatic logging\n",
        "mlflow.lightgbm.autolog()\n",
        "\n",
        "# train model\n",
        "model, train_time = train_model(\n",
        "    params, num_boost_round, X_train, X_test, y_train, y_test\n",
        ")\n",
        "mlflow.log_metric(\"training_time\", train_time)\n",
        "\n",
        "# evaluate model\n",
        "loss, acc = evaluate_model(model, X_test, y_test)\n",
        "mlflow.log_metrics({\"loss\": loss, \"accuracy\": acc})\n",
        "     "
      ],
      "outputs": [
        {
          "output_type": "stream",
          "name": "stdout",
          "text": "[LightGBM] [Warning] Auto-choosing row-wise multi-threading, the overhead of testing was 0.007484 seconds.\nYou can set `force_row_wise=true` to remove the overhead.\nAnd if memory is not enough, you can set `force_col_wise=true`.\n[LightGBM] [Info] Total Bins 91\n[LightGBM] [Info] Number of data points in the train set: 120, number of used features: 4\n[LightGBM] [Info] Start training from score -1.098612\n[LightGBM] [Info] Start training from score -1.073920\n[LightGBM] [Info] Start training from score -1.123930\n[LightGBM] [Warning] No further splits with positive gain, best gain: -inf\n[LightGBM] [Warning] No further splits with positive gain, best gain: -inf\n[LightGBM] [Warning] No further splits with positive gain, best gain: -inf\n[1]\ttest's multi_logloss: 0.930558\n[LightGBM] [Warning] No further splits with positive gain, best gain: -inf\n[LightGBM] [Warning] No further splits with positive gain, best gain: -inf\n[LightGBM] [Warning] No further splits with positive gain, best gain: -inf\n[2]\ttest's multi_logloss: 0.795536\n[LightGBM] [Warning] No further splits with positive gain, best gain: -inf\n[LightGBM] [Warning] No further splits with positive gain, best gain: -inf\n[LightGBM] [Warning] No further splits with positive gain, best gain: -inf\n[3]\ttest's multi_logloss: 0.68756\n[LightGBM] [Warning] No further splits with positive gain, best gain: -inf\n[LightGBM] [Warning] No further splits with positive gain, best gain: -inf\n[LightGBM] [Warning] No further splits with positive gain, best gain: -inf\n[4]\ttest's multi_logloss: 0.593833\n[LightGBM] [Warning] No further splits with positive gain, best gain: -inf\n[LightGBM] [Warning] No further splits with positive gain, best gain: -inf\n[LightGBM] [Warning] No further splits with positive gain, best gain: -inf\n[5]\ttest's multi_logloss: 0.51883\n[LightGBM] [Warning] No further splits with positive gain, best gain: -inf\n[LightGBM] [Warning] No further splits with positive gain, best gain: -inf\n[LightGBM] [Warning] No further splits with positive gain, best gain: -inf\n[6]\ttest's multi_logloss: 0.454422\n[LightGBM] [Warning] No further splits with positive gain, best gain: -inf\n[LightGBM] [Warning] No further splits with positive gain, best gain: -inf\n[LightGBM] [Warning] No further splits with positive gain, best gain: -inf\n[7]\ttest's multi_logloss: 0.401051\n[LightGBM] [Warning] No further splits with positive gain, best gain: -inf\n[LightGBM] [Warning] No further splits with positive gain, best gain: -inf\n[LightGBM] [Warning] No further splits with positive gain, best gain: -inf\n[8]\ttest's multi_logloss: 0.353053\n[LightGBM] [Warning] No further splits with positive gain, best gain: -inf\n[LightGBM] [Warning] No further splits with positive gain, best gain: -inf\n[LightGBM] [Warning] No further splits with positive gain, best gain: -inf\n[9]\ttest's multi_logloss: 0.313256\n[LightGBM] [Warning] No further splits with positive gain, best gain: -inf\n[LightGBM] [Warning] No further splits with positive gain, best gain: -inf\n[LightGBM] [Warning] No further splits with positive gain, best gain: -inf\n[10]\ttest's multi_logloss: 0.276926\n[LightGBM] [Warning] No further splits with positive gain, best gain: -inf\n[LightGBM] [Warning] No further splits with positive gain, best gain: -inf\n[LightGBM] [Warning] No further splits with positive gain, best gain: -inf\n[11]\ttest's multi_logloss: 0.247315\n[LightGBM] [Warning] No further splits with positive gain, best gain: -inf\n[LightGBM] [Warning] No further splits with positive gain, best gain: -inf\n[LightGBM] [Warning] No further splits with positive gain, best gain: -inf\n[12]\ttest's multi_logloss: 0.221442\n[LightGBM] [Warning] No further splits with positive gain, best gain: -inf\n[LightGBM] [Warning] No further splits with positive gain, best gain: -inf\n[LightGBM] [Warning] No further splits with positive gain, best gain: -inf\n[13]\ttest's multi_logloss: 0.199252\n[LightGBM] [Warning] No further splits with positive gain, best gain: -inf\n[LightGBM] [Warning] No further splits with positive gain, best gain: -inf\n[LightGBM] [Warning] No further splits with positive gain, best gain: -inf\n[14]\ttest's multi_logloss: 0.177485\n[LightGBM] [Warning] No further splits with positive gain, best gain: -inf\n[LightGBM] [Warning] No further splits with positive gain, best gain: -inf\n[LightGBM] [Warning] No further splits with positive gain, best gain: -inf\n[15]\ttest's multi_logloss: 0.160641\n[LightGBM] [Warning] No further splits with positive gain, best gain: -inf\n[LightGBM] [Warning] No further splits with positive gain, best gain: -inf\n[LightGBM] [Warning] No further splits with positive gain, best gain: -inf\n[16]\ttest's multi_logloss: 0.144921\n[LightGBM] [Warning] No further splits with positive gain, best gain: -inf\n[LightGBM] [Warning] No further splits with positive gain, best gain: -inf\n[LightGBM] [Warning] No further splits with positive gain, best gain: -inf\n[17]\ttest's multi_logloss: 0.129971\n[LightGBM] [Warning] No further splits with positive gain, best gain: -inf\n[LightGBM] [Warning] No further splits with positive gain, best gain: -inf\n[LightGBM] [Warning] No further splits with positive gain, best gain: -inf\n[18]\ttest's multi_logloss: 0.117683\n[LightGBM] [Warning] No further splits with positive gain, best gain: -inf\n[LightGBM] [Warning] No further splits with positive gain, best gain: -inf\n[LightGBM] [Warning] No further splits with positive gain, best gain: -inf\n[19]\ttest's multi_logloss: 0.108334\n[LightGBM] [Warning] No further splits with positive gain, best gain: -inf\n[LightGBM] [Warning] No further splits with positive gain, best gain: -inf\n[LightGBM] [Warning] No further splits with positive gain, best gain: -inf\n[20]\ttest's multi_logloss: 0.0977779\n[LightGBM] [Warning] No further splits with positive gain, best gain: -inf\n[LightGBM] [Warning] No further splits with positive gain, best gain: -inf\n[LightGBM] [Warning] No further splits with positive gain, best gain: -inf\n[21]\ttest's multi_logloss: 0.0942463\n[LightGBM] [Warning] No further splits with positive gain, best gain: -inf\n[LightGBM] [Warning] No further splits with positive gain, best gain: -inf\n[LightGBM] [Warning] No further splits with positive gain, best gain: -inf\n[22]\ttest's multi_logloss: 0.0894623\n[LightGBM] [Warning] No further splits with positive gain, best gain: -inf\n[LightGBM] [Warning] No further splits with positive gain, best gain: -inf\n[LightGBM] [Warning] No further splits with positive gain, best gain: -inf\n[23]\ttest's multi_logloss: 0.0851825\n[LightGBM] [Warning] No further splits with positive gain, best gain: -inf\n[LightGBM] [Warning] No further splits with positive gain, best gain: -inf\n[LightGBM] [Warning] No further splits with positive gain, best gain: -inf\n[24]\ttest's multi_logloss: 0.0783286\n[LightGBM] [Warning] No further splits with positive gain, best gain: -inf\n[LightGBM] [Warning] No further splits with positive gain, best gain: -inf\n[LightGBM] [Warning] No further splits with positive gain, best gain: -inf\n[25]\ttest's multi_logloss: 0.0751468\n[LightGBM] [Warning] No further splits with positive gain, best gain: -inf\n[LightGBM] [Warning] No further splits with positive gain, best gain: -inf\n[LightGBM] [Warning] No further splits with positive gain, best gain: -inf\n[26]\ttest's multi_logloss: 0.0715524\n[LightGBM] [Warning] No further splits with positive gain, best gain: -inf\n[LightGBM] [Warning] No further splits with positive gain, best gain: -inf\n[LightGBM] [Warning] No further splits with positive gain, best gain: -inf\n[27]\ttest's multi_logloss: 0.0668302\n[LightGBM] [Warning] No further splits with positive gain, best gain: -inf\n[LightGBM] [Warning] No further splits with positive gain, best gain: -inf\n[LightGBM] [Warning] No further splits with positive gain, best gain: -inf\n[28]\ttest's multi_logloss: 0.0642204\n[LightGBM] [Warning] No further splits with positive gain, best gain: -inf\n[LightGBM] [Warning] No further splits with positive gain, best gain: -inf\n[LightGBM] [Warning] No further splits with positive gain, best gain: -inf\n[29]\ttest's multi_logloss: 0.0623724\n[LightGBM] [Warning] No further splits with positive gain, best gain: -inf\n[LightGBM] [Warning] No further splits with positive gain, best gain: -inf\n[LightGBM] [Warning] No further splits with positive gain, best gain: -inf\n[30]\ttest's multi_logloss: 0.0585681\n[LightGBM] [Warning] No further splits with positive gain, best gain: -inf\n[LightGBM] [Warning] No further splits with positive gain, best gain: -inf\n[LightGBM] [Warning] No further splits with positive gain, best gain: -inf\n[31]\ttest's multi_logloss: 0.0570747\n[LightGBM] [Warning] No further splits with positive gain, best gain: -inf\n[LightGBM] [Warning] No further splits with positive gain, best gain: -inf\n[LightGBM] [Warning] No further splits with positive gain, best gain: -inf\n[32]\ttest's multi_logloss: 0.0579242\n"
        },
        {
          "output_type": "stream",
          "name": "stderr",
          "text": "2022/12/07 05:46:20 WARNING mlflow.utils.environment: Encountered an unexpected error while inferring pip requirements (model URI: /tmp/tmprxlc7tbq/model, flavor: lightgbm), fall back to return ['lightgbm==3.2.1']. Set logging level to DEBUG to see the full traceback.\n"
        }
      ],
      "execution_count": 7,
      "metadata": {
        "jupyter": {
          "source_hidden": false,
          "outputs_hidden": false
        },
        "nteract": {
          "transient": {
            "deleting": false
          }
        },
        "gather": {
          "logged": 1670391983132
        }
      }
    },
    {
      "cell_type": "code",
      "source": [
        "#save the logs and capture the results\n",
        "mlflow.log_artifact(\"PySDK.ipynb\")"
      ],
      "outputs": [],
      "execution_count": 10,
      "metadata": {
        "jupyter": {
          "source_hidden": false,
          "outputs_hidden": false
        },
        "nteract": {
          "transient": {
            "deleting": false
          }
        },
        "gather": {
          "logged": 1670392151475
        }
      }
    },
    {
      "cell_type": "code",
      "source": [
        "# end run and mark it as complete\n",
        "mlflow.end_run()"
      ],
      "outputs": [],
      "execution_count": 11,
      "metadata": {
        "jupyter": {
          "source_hidden": false,
          "outputs_hidden": false
        },
        "nteract": {
          "transient": {
            "deleting": false
          }
        },
        "gather": {
          "logged": 1670392159104
        }
      }
    }
  ],
  "metadata": {
    "kernelspec": {
      "name": "python38-azureml",
      "language": "python",
      "display_name": "Python 3.8 - AzureML"
    },
    "language_info": {
      "name": "python",
      "version": "3.8.5",
      "mimetype": "text/x-python",
      "codemirror_mode": {
        "name": "ipython",
        "version": 3
      },
      "pygments_lexer": "ipython3",
      "nbconvert_exporter": "python",
      "file_extension": ".py"
    },
    "kernel_info": {
      "name": "python38-azureml"
    },
    "microsoft": {
      "host": {
        "AzureML": {
          "notebookHasBeenCompleted": true
        }
      }
    },
    "nteract": {
      "version": "nteract-front-end@1.0.0"
    }
  },
  "nbformat": 4,
  "nbformat_minor": 2
}